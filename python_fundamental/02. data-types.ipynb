{
 "cells": [
  {
   "cell_type": "markdown",
   "id": "623de926",
   "metadata": {},
   "source": [
    "# Python supports 3 categories of data types:\n",
    "    - Basic Types - (integer,float,complex,boolean and string)\n",
    "    - Container Types - (List,Tuples, Sets and Dictionary)\n",
    "    - User-defined Types - Class"
   ]
  },
  {
   "cell_type": "code",
   "execution_count": 1,
   "id": "d192bb16",
   "metadata": {},
   "outputs": [
    {
     "name": "stdout",
     "output_type": "stream",
     "text": [
      "4\n",
      "<class 'int'>\n",
      "12\n",
      "1e+308\n",
      "inf\n"
     ]
    }
   ],
   "source": [
    "# integer\n",
    "print(4)\n",
    "x = 5\n",
    "print(type(x))\n",
    "print(5+7)\n",
    "\n",
    "# Python interger limit 1e308\n",
    "print(1e308)\n",
    "print(1e309)  ##it cross the limit (infinity)"
   ]
  },
  {
   "cell_type": "code",
   "execution_count": 2,
   "id": "985a0ee3",
   "metadata": {},
   "outputs": [
    {
     "name": "stdout",
     "output_type": "stream",
     "text": [
      "9.7\n",
      "13.7\n",
      "<class 'float'>\n",
      "1.7e+308\n",
      "inf\n"
     ]
    }
   ],
   "source": [
    "# float\n",
    "print(4.5+5.2)\n",
    "x = 5.5\n",
    "y = 8.2\n",
    "c = x + y\n",
    "print(c)\n",
    "print(type(c))\n",
    "\n",
    "# Python float limit 1.7e308\n",
    "print(1.7e308)\n",
    "print(1.7e309) #it cross the limit (infinity)"
   ]
  },
  {
   "cell_type": "code",
   "execution_count": 3,
   "id": "cdedcc60",
   "metadata": {},
   "outputs": [
    {
     "name": "stdout",
     "output_type": "stream",
     "text": [
      "True\n",
      "False\n"
     ]
    }
   ],
   "source": [
    "# boolean\n",
    "print(True)\n",
    "print(False)"
   ]
  },
  {
   "cell_type": "code",
   "execution_count": 4,
   "id": "fa22d0de",
   "metadata": {},
   "outputs": [
    {
     "name": "stdout",
     "output_type": "stream",
     "text": [
      "(4+5j)\n"
     ]
    }
   ],
   "source": [
    "# complex\n",
    "print(4+5j)"
   ]
  },
  {
   "cell_type": "code",
   "execution_count": 5,
   "id": "fd52f1dd",
   "metadata": {},
   "outputs": [
    {
     "name": "stdout",
     "output_type": "stream",
     "text": [
      "Dhaka\n",
      "Dhaka\n",
      "Dhaka\n",
      "I Love Python\n",
      "<class 'str'>\n"
     ]
    }
   ],
   "source": [
    "# string\n",
    "print('Dhaka')\n",
    "print(\"Dhaka\")\n",
    "print(\"\"\"Dhaka\"\"\")\n",
    "a = \"I Love Python\"\n",
    "print(a)\n",
    "print(type(a))"
   ]
  },
  {
   "cell_type": "code",
   "execution_count": 6,
   "id": "07f0b2bd",
   "metadata": {},
   "outputs": [
    {
     "name": "stdout",
     "output_type": "stream",
     "text": [
      "[1, 2, 3, 4, 5]\n",
      "[2, 3, 'shormi', False, 4.5]\n",
      "<class 'list'>\n"
     ]
    }
   ],
   "source": [
    "# list\n",
    "print([1,2,3,4,5])\n",
    "b = [2,3,'shormi',False,4.5]\n",
    "print(b)\n",
    "print(type(b))"
   ]
  },
  {
   "cell_type": "code",
   "execution_count": 7,
   "id": "3d6e3089",
   "metadata": {},
   "outputs": [
    {
     "name": "stdout",
     "output_type": "stream",
     "text": [
      "(1, 2, 3, 4, 5)\n",
      "('shormi', True, 4.5, 2, 3)\n",
      "<class 'tuple'>\n"
     ]
    }
   ],
   "source": [
    "# tuple\n",
    "print((1,2,3,4,5))\n",
    "c = ('shormi',True,4.5,2,3)\n",
    "print(c)\n",
    "print(type(c))"
   ]
  },
  {
   "cell_type": "code",
   "execution_count": 8,
   "id": "201dbe35",
   "metadata": {},
   "outputs": [
    {
     "name": "stdout",
     "output_type": "stream",
     "text": [
      "{1, 2, 3, 4, 5}\n",
      "{True, 2.5, 3, 4, 'Dhaka'}\n",
      "<class 'set'>\n"
     ]
    }
   ],
   "source": [
    "#sets\n",
    "print({1,2,3,4,5})\n",
    "d = {'Dhaka',True,2.5,4,3}\n",
    "print(d)\n",
    "print(type(d))"
   ]
  },
  {
   "cell_type": "code",
   "execution_count": 9,
   "id": "4a32aa9b",
   "metadata": {},
   "outputs": [
    {
     "name": "stdout",
     "output_type": "stream",
     "text": [
      "{'Name': 'Shormi', 'Age': 25, 'gender': 'Female'}\n"
     ]
    }
   ],
   "source": [
    "# dict\n",
    "print({\"Name\":\"Shormi\",\"Age\":25,\"gender\":\"Female\"})"
   ]
  },
  {
   "cell_type": "code",
   "execution_count": null,
   "id": "f208178b",
   "metadata": {},
   "outputs": [],
   "source": []
  }
 ],
 "metadata": {
  "kernelspec": {
   "display_name": "Python 3 (ipykernel)",
   "language": "python",
   "name": "python3"
  },
  "language_info": {
   "codemirror_mode": {
    "name": "ipython",
    "version": 3
   },
   "file_extension": ".py",
   "mimetype": "text/x-python",
   "name": "python",
   "nbconvert_exporter": "python",
   "pygments_lexer": "ipython3",
   "version": "3.11.5"
  }
 },
 "nbformat": 4,
 "nbformat_minor": 5
}
