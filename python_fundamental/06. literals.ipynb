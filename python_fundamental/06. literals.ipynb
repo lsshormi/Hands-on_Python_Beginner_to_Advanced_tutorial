{
 "cells": [
  {
   "cell_type": "markdown",
   "id": "06ec06f1",
   "metadata": {},
   "source": [
    "# Literals\n",
    "Literal is a raw data given in a variable. In Python, there are various types of literals they are as follows:\n",
    "\n"
   ]
  },
  {
   "cell_type": "markdown",
   "id": "0c3041ac",
   "metadata": {},
   "source": [
    "- Numeric Literals\n",
    "- String Literals\n",
    "- Boolean Literals\n",
    "- Literal Collections\n",
    "- Special Literals"
   ]
  },
  {
   "cell_type": "markdown",
   "id": "e6ff63b6",
   "metadata": {},
   "source": [
    "## 1. Numeric Literals"
   ]
  },
  {
   "cell_type": "markdown",
   "id": "126a799b",
   "metadata": {},
   "source": [
    "They are immutable and there are three types of numeric literal: \n",
    "\n",
    "- Integer \n",
    "- Float\n",
    "- Complex"
   ]
  },
  {
   "cell_type": "markdown",
   "id": "0d9d4fc6",
   "metadata": {},
   "source": [
    "### Integer\n",
    "\n",
    "Both positive and negative numbers including 0. There should not be any fractional part. In this example, We assigned integer literals (0b10100, 50, 0o320, 0x12b) into different variables. Here, ‘a‘ is a binary literal, ‘b’ is a decimal literal, ‘c‘ is an octal literal, and ‘d‘ is a hexadecimal literal. But on using the print function to display a value or to get the output they were converted into decimal."
   ]
  },
  {
   "cell_type": "code",
   "execution_count": 1,
   "id": "d07e22c1",
   "metadata": {},
   "outputs": [
    {
     "name": "stdout",
     "output_type": "stream",
     "text": [
      "10 100 200 300\n"
     ]
    }
   ],
   "source": [
    "#Binary Literals\n",
    "a = 0b1010 \n",
    "\n",
    "#Decimal Literal\n",
    "b = 100 \n",
    "\n",
    "#Octal Literal\n",
    "c = 0o310 \n",
    "\n",
    "#Hexadecimal Literal\n",
    "d = 0x12c  \n",
    "\n",
    "print(a, b, c, d)"
   ]
  },
  {
   "cell_type": "markdown",
   "id": "09050ae7",
   "metadata": {},
   "source": [
    "### Float\n",
    "These are real numbers having both integer and fractional parts. In this example, 24.8 and 45.0 are floating-point literals because both 24.8 and 45.0 are floating-point numbers. "
   ]
  },
  {
   "cell_type": "code",
   "execution_count": 2,
   "id": "99a06312",
   "metadata": {},
   "outputs": [
    {
     "name": "stdout",
     "output_type": "stream",
     "text": [
      "10.5 150.0 0.0015\n"
     ]
    }
   ],
   "source": [
    "#Float Literal\n",
    "float_1 = 10.5 \n",
    "float_2 = 1.5e2   # 1.5*10^2\n",
    "float_3 = 1.5e-3  # 1.5*10^-3\n",
    "\n",
    "print(float_1, float_2,float_3)"
   ]
  },
  {
   "cell_type": "markdown",
   "id": "b41fedfe",
   "metadata": {},
   "source": [
    "### Complex \n",
    "The numerals will be in the form of a + bj, where ‘a’ is the real part and ‘b‘ is the complex part. Numeric literal [ Complex ]"
   ]
  },
  {
   "cell_type": "code",
   "execution_count": 3,
   "id": "504a6383",
   "metadata": {},
   "outputs": [
    {
     "name": "stdout",
     "output_type": "stream",
     "text": [
      "3.14j 3.14 0.0\n"
     ]
    }
   ],
   "source": [
    "#Complex Literal \n",
    "x = 3.14j\n",
    "\n",
    "print(x, x.imag, x.real)"
   ]
  },
  {
   "cell_type": "markdown",
   "id": "d735e9bb",
   "metadata": {},
   "source": [
    "## 2. String Literals"
   ]
  },
  {
   "cell_type": "markdown",
   "id": "ef49d2fa",
   "metadata": {},
   "source": [
    "A string is literal and can be created by writing a text(a group of Characters ) surrounded by a single(”), double(“), or triple quotes.  We can write multi-line strings or display them in the desired way by using triple quotes."
   ]
  },
  {
   "cell_type": "code",
   "execution_count": 4,
   "id": "cefb7b36",
   "metadata": {},
   "outputs": [
    {
     "name": "stdout",
     "output_type": "stream",
     "text": [
      "This is Python\n",
      "This is Python\n",
      "C\n",
      "This is a multiline string with more than one line code.\n",
      "😀😆🤣\n",
      "raw \\n string\n"
     ]
    }
   ],
   "source": [
    "# in single quote\n",
    "string = 'This is Python'\n",
    "\n",
    "# in double quotes\n",
    "strings = \"This is Python\"\n",
    "char = \"C\"\n",
    "\n",
    "# multi-line String\n",
    "multiline_str = \"\"\"This is a multiline string with more than one line code.\"\"\"\n",
    "unicode = u\"\\U0001f600\\U0001F606\\U0001F923\"     #emojies\n",
    "raw_str = r\"raw \\n string\"\n",
    "\n",
    "print(string)\n",
    "print(strings)\n",
    "print(char)\n",
    "print(multiline_str)\n",
    "print(unicode)\n",
    "print(raw_str)"
   ]
  },
  {
   "cell_type": "markdown",
   "id": "aef822db",
   "metadata": {},
   "source": [
    "## 3. Boolean Literals"
   ]
  },
  {
   "cell_type": "markdown",
   "id": "266cb917",
   "metadata": {},
   "source": [
    "There are only two Boolean literals in Python. They are true and false. In Python, True represents the value as 1, and False represents the value as 0. In this example ‘a‘ is True and ‘b‘ is False because 1 is equal to True."
   ]
  },
  {
   "cell_type": "code",
   "execution_count": 5,
   "id": "bd2c14c0",
   "metadata": {},
   "outputs": [
    {
     "name": "stdout",
     "output_type": "stream",
     "text": [
      "a is True\n",
      "b is False\n",
      "c: 4\n",
      "d: 7\n"
     ]
    }
   ],
   "source": [
    "a = (1 == True)\n",
    "b = (1 == False)\n",
    "c = True + 3\n",
    "d = False + 7\n",
    "\n",
    "print(\"a is\", a)\n",
    "print(\"b is\", b)\n",
    "print(\"c:\", c)\n",
    "print(\"d:\", d)"
   ]
  },
  {
   "cell_type": "markdown",
   "id": "6e0c0e88",
   "metadata": {},
   "source": [
    "## 4. Literal Collections"
   ]
  },
  {
   "cell_type": "markdown",
   "id": "83896d89",
   "metadata": {},
   "source": [
    "Python provides four different types of literal collections:\n",
    "\n",
    "- List literals\n",
    "- Tuple literals\n",
    "- Dict literals\n",
    "- Set literals"
   ]
  },
  {
   "cell_type": "markdown",
   "id": "caec6721",
   "metadata": {},
   "source": [
    "### List literal\n",
    "The list contains items of different data types. The values stored in the List are separated by a comma (,) and enclosed within square brackets([]). We can store different types of data in a List. Lists are mutable."
   ]
  },
  {
   "cell_type": "code",
   "execution_count": 6,
   "id": "e108888b",
   "metadata": {},
   "outputs": [
    {
     "name": "stdout",
     "output_type": "stream",
     "text": [
      "[1, 2, 3, 4, 5]\n",
      "['Shormi', 'kabir', 'shuvo', 2]\n"
     ]
    }
   ],
   "source": [
    "number = [1, 2, 3, 4, 5]\n",
    "name = ['Shormi', 'kabir', 'shuvo', 2]\n",
    "print(number)\n",
    "print(name)"
   ]
  },
  {
   "cell_type": "markdown",
   "id": "cbe81bb1",
   "metadata": {},
   "source": [
    "### Tuple literal\n",
    "A tuple is a collection of different data-type.  It is enclosed by the parentheses ‘()‘ and each element is separated by the comma(,). It is immutable."
   ]
  },
  {
   "cell_type": "code",
   "execution_count": 7,
   "id": "244680c0",
   "metadata": {},
   "outputs": [
    {
     "name": "stdout",
     "output_type": "stream",
     "text": [
      "(2, 4, 6, 8)\n",
      "(1, 3, 5, 7)\n"
     ]
    }
   ],
   "source": [
    "even_number = (2, 4, 6, 8)\n",
    "odd_number = (1, 3, 5, 7)\n",
    "\n",
    "print(even_number)\n",
    "print(odd_number)"
   ]
  },
  {
   "cell_type": "markdown",
   "id": "673f6895",
   "metadata": {},
   "source": [
    "### Dictionary literal\n",
    "The dictionary stores the data in the key-value pair. It is enclosed by curly braces ‘{}‘ and each pair is separated by the commas(,).  We can store different types of data in a dictionary. Dictionaries are mutable."
   ]
  },
  {
   "cell_type": "code",
   "execution_count": 8,
   "id": "7dea1238",
   "metadata": {},
   "outputs": [
    {
     "name": "stdout",
     "output_type": "stream",
     "text": [
      "{'a': 'apple', 'b': 'ball', 'c': 'cat'}\n",
      "{'name': 'Shormi', 'age': 25, 'ID': 19101086}\n"
     ]
    }
   ],
   "source": [
    "alphabets = {'a': 'apple', 'b': 'ball', 'c': 'cat'}\n",
    "information = {'name': 'Shormi', 'age': 25, 'ID': 19101086}\n",
    "\n",
    "print(alphabets)\n",
    "print(information)"
   ]
  },
  {
   "cell_type": "markdown",
   "id": "0c628bf7",
   "metadata": {},
   "source": [
    "### Set literal\n",
    "Set is the collection of the unordered data set. It is enclosed by the {} and each element is separated by the comma(,)."
   ]
  },
  {
   "cell_type": "code",
   "execution_count": 9,
   "id": "c092c408",
   "metadata": {},
   "outputs": [
    {
     "name": "stdout",
     "output_type": "stream",
     "text": [
      "{'u', 'a', 'i', 'o', 'e'}\n",
      "{'banana', 'cherry', 'apple'}\n"
     ]
    }
   ],
   "source": [
    "vowels = {'a', 'e', 'i', 'o', 'u'}\n",
    "fruits = {\"apple\", \"banana\", \"cherry\"}\n",
    "\n",
    "print(vowels)\n",
    "print(fruits)"
   ]
  },
  {
   "cell_type": "markdown",
   "id": "49d8b0cd",
   "metadata": {},
   "source": [
    "## 5. Special Literals"
   ]
  },
  {
   "cell_type": "markdown",
   "id": "88d1b593",
   "metadata": {},
   "source": [
    "Python contains one special literal (None). ‘None’ is used to define a null variable. If ‘None’ is compared with anything else other than a ‘None’, it will return false."
   ]
  },
  {
   "cell_type": "code",
   "execution_count": 10,
   "id": "fec59711",
   "metadata": {},
   "outputs": [
    {
     "name": "stdout",
     "output_type": "stream",
     "text": [
      "None\n"
     ]
    }
   ],
   "source": [
    "water_remain = None\n",
    "print(water_remain)"
   ]
  },
  {
   "cell_type": "markdown",
   "id": "e8326a18",
   "metadata": {},
   "source": [
    "Note: Literals are raw values or data that are stored in a variable or constant. Variables are mutable, i.e., their values can be changed and updated. Constants are immutable, i.e. their values cannot be changed or updated."
   ]
  },
  {
   "cell_type": "code",
   "execution_count": null,
   "id": "18ef2be4",
   "metadata": {},
   "outputs": [],
   "source": []
  }
 ],
 "metadata": {
  "kernelspec": {
   "display_name": "Python 3 (ipykernel)",
   "language": "python",
   "name": "python3"
  },
  "language_info": {
   "codemirror_mode": {
    "name": "ipython",
    "version": 3
   },
   "file_extension": ".py",
   "mimetype": "text/x-python",
   "name": "python",
   "nbconvert_exporter": "python",
   "pygments_lexer": "ipython3",
   "version": "3.11.5"
  }
 },
 "nbformat": 4,
 "nbformat_minor": 5
}
