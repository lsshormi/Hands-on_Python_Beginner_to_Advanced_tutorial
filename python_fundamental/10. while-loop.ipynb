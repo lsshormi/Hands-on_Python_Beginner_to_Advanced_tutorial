{
 "cells": [
  {
   "cell_type": "markdown",
   "id": "28f8bd42",
   "metadata": {},
   "source": [
    "# What is loop?\n",
    "Loops are a fundamental concept in programming that allow a section of code to be executed repeatedly for a specified number of times or until a certain condition is met. The use of loops simplifies the coding process, makes it more efficient, and enables developers to perform repetitive tasks with ease.\n",
    "\n",
    "A classic project-based application of loops is data processing. For instance, imagine sorting a large dataset where you need to iterate through each record, perform calculations, and make decisions based on specific conditions. Loops enable you to accomplish this task by iterating through each record and executing the required actions repeatedly."
   ]
  },
  {
   "cell_type": "markdown",
   "id": "c60ca8f2",
   "metadata": {},
   "source": [
    "## How loop practically works?\n",
    "In a project, when we use loops, we create a single container and then pass that container through the loop to fetch data from the database. The loop will run as many times as there are products in the database, and each time the container will be printed. This is a practical demonstration of how the loop works.\n",
    "\n",
    "For example, Foodpanda uses loops to ensure that all restaurant descriptions are presented in a consistent format. Each container follows the same structure, with the only variation being the data displayed. The process involves fetching the relevant data from the database and organizing it into a unified container, thereby enabling the display of all the data based on the respective restaurant."
   ]
  },
  {
   "cell_type": "markdown",
   "id": "73c8171b",
   "metadata": {},
   "source": [
    "### python has only 2 types of loop\n",
    "- while loop and\n",
    "- for loop"
   ]
  },
  {
   "cell_type": "code",
   "execution_count": null,
   "id": "0890cdd4",
   "metadata": {},
   "outputs": [],
   "source": [
    "# this is the while loop format for other language\n",
    "\n",
    "while(condition){\n",
    "    code\n",
    "}"
   ]
  },
  {
   "cell_type": "code",
   "execution_count": null,
   "id": "bf50d3f9",
   "metadata": {},
   "outputs": [],
   "source": [
    "# while loop format for Python\n",
    "\n",
    "while condition:\n",
    "    code"
   ]
  },
  {
   "cell_type": "code",
   "execution_count": 1,
   "id": "f491657b",
   "metadata": {},
   "outputs": [
    {
     "name": "stdout",
     "output_type": "stream",
     "text": [
      "Enter the number 5\n",
      "5\n",
      "10\n",
      "15\n",
      "20\n",
      "25\n",
      "30\n",
      "35\n",
      "40\n",
      "45\n",
      "50\n"
     ]
    }
   ],
   "source": [
    "number = int(input(\"Enter the number \"))\n",
    "\n",
    "i = 1\n",
    "\n",
    "while i<11:\n",
    "    print(number * i)\n",
    "    i+=1      # i = i+1"
   ]
  },
  {
   "cell_type": "code",
   "execution_count": 2,
   "id": "6a891256",
   "metadata": {},
   "outputs": [
    {
     "name": "stdout",
     "output_type": "stream",
     "text": [
      "Enter the number: 9\n",
      "9 * 1 = 9\n",
      "9 * 2 = 18\n",
      "9 * 3 = 27\n",
      "9 * 4 = 36\n",
      "9 * 5 = 45\n",
      "9 * 6 = 54\n",
      "9 * 7 = 63\n",
      "9 * 8 = 72\n",
      "9 * 9 = 81\n",
      "9 * 10 = 90\n"
     ]
    }
   ],
   "source": [
    "number = int(input(\"Enter the number: \"))\n",
    "\n",
    "i = 1\n",
    "\n",
    "while i<11:\n",
    "    print(number,\"*\",i,\"=\",number * i)\n",
    "    i+=1"
   ]
  },
  {
   "cell_type": "markdown",
   "id": "af432413",
   "metadata": {},
   "source": [
    "To know more about while loop, check out these websites:\n",
    "1. https://www.w3schools.com/python/python_while_loops.asp\n",
    "2. https://www.programiz.com/python-programming/while-loop"
   ]
  },
  {
   "cell_type": "code",
   "execution_count": null,
   "id": "c90d6dd5",
   "metadata": {},
   "outputs": [],
   "source": []
  }
 ],
 "metadata": {
  "kernelspec": {
   "display_name": "Python 3 (ipykernel)",
   "language": "python",
   "name": "python3"
  },
  "language_info": {
   "codemirror_mode": {
    "name": "ipython",
    "version": 3
   },
   "file_extension": ".py",
   "mimetype": "text/x-python",
   "name": "python",
   "nbconvert_exporter": "python",
   "pygments_lexer": "ipython3",
   "version": "3.11.5"
  }
 },
 "nbformat": 4,
 "nbformat_minor": 5
}
