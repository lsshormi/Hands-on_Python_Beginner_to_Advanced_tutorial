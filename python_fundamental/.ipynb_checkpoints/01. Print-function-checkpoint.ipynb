{
 "cells": [
  {
   "cell_type": "markdown",
   "id": "6c45e06a",
   "metadata": {},
   "source": [
    "# Definition and Usage\n",
    "The print() function prints the specified message to the screen, or other standard output device.\n",
    "\n",
    "The message can be a string, or any other object, the object will be converted into a string before written to the screen."
   ]
  },
  {
   "cell_type": "code",
   "execution_count": 1,
   "id": "d6053d0c",
   "metadata": {},
   "outputs": [
    {
     "name": "stdout",
     "output_type": "stream",
     "text": [
      "Hello World\n"
     ]
    }
   ],
   "source": [
    "print(\"Hello World\")"
   ]
  },
  {
   "cell_type": "markdown",
   "id": "605c2235",
   "metadata": {},
   "source": [
    "# Syntax\n",
    "print(object(s), sep=separator, end=end, file=file, flush=flush)"
   ]
  },
  {
   "cell_type": "code",
   "execution_count": 2,
   "id": "dbb9cae4",
   "metadata": {},
   "outputs": [
    {
     "name": "stdout",
     "output_type": "stream",
     "text": [
      "5.6\n"
     ]
    }
   ],
   "source": [
    "print(5.6)"
   ]
  },
  {
   "cell_type": "code",
   "execution_count": 3,
   "id": "79abb350",
   "metadata": {},
   "outputs": [
    {
     "name": "stdout",
     "output_type": "stream",
     "text": [
      "False\n"
     ]
    }
   ],
   "source": [
    "print(False)"
   ]
  },
  {
   "cell_type": "markdown",
   "id": "3fdf9ffa",
   "metadata": {},
   "source": [
    "# Parameter Values\n",
    "    Parameter          Description\n",
    "    object(s)\t   Any object, and as many as you like. Will be converted to string before printed\n",
    "    sep='separator'\t   Optional. Specify how to separate the objects, if there is more than one. Default is ' '\n",
    "    end='end'\t   Optional. Specify what to print at the end. Default is '\\n' (line feed)\n",
    "    file\t           Optional. An object with a write method. Default is sys.stdout\n",
    "    flush\t           Optional. A Boolean, specifying if the output is flushed (True) or buffered (False).                          Default is False"
   ]
  },
  {
   "cell_type": "code",
   "execution_count": 4,
   "id": "58279881",
   "metadata": {},
   "outputs": [
    {
     "name": "stdout",
     "output_type": "stream",
     "text": [
      "Bangladesh Pakistan Nepal Srilanka\n"
     ]
    }
   ],
   "source": [
    "print(\"Bangladesh\",\"Pakistan\",\"Nepal\",\"Srilanka\")"
   ]
  },
  {
   "cell_type": "code",
   "execution_count": 5,
   "id": "2079d406",
   "metadata": {},
   "outputs": [
    {
     "name": "stdout",
     "output_type": "stream",
     "text": [
      "BD 5 True\n"
     ]
    }
   ],
   "source": [
    "print(\"BD\",5,True)"
   ]
  },
  {
   "cell_type": "code",
   "execution_count": 6,
   "id": "486c4198",
   "metadata": {},
   "outputs": [
    {
     "name": "stdout",
     "output_type": "stream",
     "text": [
      "Bangladesh/India/Pakistan/Nepal/Srilanka\n"
     ]
    }
   ],
   "source": [
    "print(\"Bangladesh\",\"India\",\"Pakistan\",\"Nepal\",\"Srilanka\",sep='/')"
   ]
  },
  {
   "cell_type": "code",
   "execution_count": 7,
   "id": "e594018b",
   "metadata": {},
   "outputs": [
    {
     "name": "stdout",
     "output_type": "stream",
     "text": [
      "Bangladesh-India-Pakistan-Nepal-Srilanka\n"
     ]
    }
   ],
   "source": [
    "print(\"Bangladesh\",\"India\",\"Pakistan\",\"Nepal\",\"Srilanka\",sep='-')"
   ]
  },
  {
   "cell_type": "code",
   "execution_count": 8,
   "id": "aeac7da0",
   "metadata": {},
   "outputs": [
    {
     "name": "stdout",
     "output_type": "stream",
     "text": [
      "Hello world\n"
     ]
    }
   ],
   "source": [
    "print(\"Hello\",end=' ')\n",
    "print(\"world\")"
   ]
  },
  {
   "cell_type": "code",
   "execution_count": null,
   "id": "30e193bb",
   "metadata": {},
   "outputs": [],
   "source": []
  }
 ],
 "metadata": {
  "kernelspec": {
   "display_name": "Python 3 (ipykernel)",
   "language": "python",
   "name": "python3"
  },
  "language_info": {
   "codemirror_mode": {
    "name": "ipython",
    "version": 3
   },
   "file_extension": ".py",
   "mimetype": "text/x-python",
   "name": "python",
   "nbconvert_exporter": "python",
   "pygments_lexer": "ipython3",
   "version": "3.11.5"
  }
 },
 "nbformat": 4,
 "nbformat_minor": 5
}
