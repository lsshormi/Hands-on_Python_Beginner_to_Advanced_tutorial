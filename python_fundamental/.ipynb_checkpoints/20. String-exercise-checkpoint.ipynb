{
 "cells": [
  {
   "cell_type": "markdown",
   "id": "304d05b9",
   "metadata": {},
   "source": [
    "# 1. Find the length of a given string without using the len() function\n",
    "### Problem: Write a program that calculates the length of a string without using the built-in len() function.\n",
    "\n",
    "Example:"
   ]
  },
  {
   "cell_type": "code",
   "execution_count": 1,
   "id": "05ebe236",
   "metadata": {},
   "outputs": [
    {
     "name": "stdout",
     "output_type": "stream",
     "text": [
      "Enter a string: lsshormi\n",
      "The length of the string is: 8\n"
     ]
    }
   ],
   "source": [
    "# Non-functional solution: using a manual counter\n",
    "\n",
    "string = input(\"Enter a string: \")\n",
    "count = 0\n",
    "for _ in string:\n",
    "    count += 1\n",
    "print(f\"The length of the string is: {count}\")"
   ]
  },
  {
   "cell_type": "code",
   "execution_count": 2,
   "id": "2735354d",
   "metadata": {},
   "outputs": [
    {
     "name": "stdout",
     "output_type": "stream",
     "text": [
      "5\n",
      "0\n"
     ]
    }
   ],
   "source": [
    "# Another Solution\n",
    "\n",
    "def string_length(s):\n",
    "    count = 0\n",
    "    for _ in s:\n",
    "        count += 1\n",
    "    return count\n",
    "\n",
    "# Test\n",
    "print(string_length(\"Hello\"))  # Output: 5\n",
    "print(string_length(\"\"))       # Output: 0"
   ]
  },
  {
   "cell_type": "code",
   "execution_count": 3,
   "id": "2f6ee350",
   "metadata": {},
   "outputs": [
    {
     "name": "stdout",
     "output_type": "stream",
     "text": [
      "Enter a string: hello\n",
      "The length of the string is: 5\n"
     ]
    }
   ],
   "source": [
    "# Functional solution: using sum and generator expression\n",
    "\n",
    "string = input(\"Enter a string: \")\n",
    "length = sum(1 for _ in string)\n",
    "print(f\"The length of the string is: {length}\")"
   ]
  },
  {
   "cell_type": "markdown",
   "id": "0a099791",
   "metadata": {},
   "source": [
    "# 2. Extract username from a given email\n",
    "\n",
    "### Problem: Extract the username from an email address.\n",
    "\n",
    "Example: \n",
    "- Input: shormi@gmail.com\n",
    "- Output: shormi\n",
    "\n",
    "Solution:"
   ]
  },
  {
   "cell_type": "code",
   "execution_count": 4,
   "id": "4cc78fcf",
   "metadata": {},
   "outputs": [
    {
     "name": "stdout",
     "output_type": "stream",
     "text": [
      "Enter your email: shormi@gmail.com\n",
      "Username: shormi\n"
     ]
    }
   ],
   "source": [
    "# Non-functional solution: using manual traversal\n",
    "\n",
    "email = input(\"Enter your email: \")\n",
    "username = \"\"\n",
    "for char in email:\n",
    "    if char == \"@\":\n",
    "        break\n",
    "    username += char\n",
    "print(f\"Username: {username}\")"
   ]
  },
  {
   "cell_type": "code",
   "execution_count": 5,
   "id": "e7c8c6cc",
   "metadata": {},
   "outputs": [
    {
     "name": "stdout",
     "output_type": "stream",
     "text": [
      "Enter your email: user124@gmail.com\n",
      "Username: user124\n"
     ]
    }
   ],
   "source": [
    "# Functional solution: using split\n",
    "\n",
    "email = input(\"Enter your email: \")\n",
    "username = email.split(\"@\")[0]\n",
    "print(f\"Username: {username}\")"
   ]
  },
  {
   "cell_type": "code",
   "execution_count": 6,
   "id": "2159dd2f",
   "metadata": {},
   "outputs": [
    {
     "name": "stdout",
     "output_type": "stream",
     "text": [
      "shormi\n",
      "user123\n"
     ]
    }
   ],
   "source": [
    "# Another Solution\n",
    "\n",
    "def extract_username(email):\n",
    "    return email.split(\"@\")[0]\n",
    "\n",
    "# Test\n",
    "print(extract_username(\"shormi@gmail.com\"))  # Output: shormi\n",
    "print(extract_username(\"user123@yahoo.com\")) # Output: user123"
   ]
  },
  {
   "cell_type": "markdown",
   "id": "594d6e80",
   "metadata": {},
   "source": [
    "# 3. Check if a given string is a palindrome\n",
    "\n",
    "### Problem: Write a program that checks if a string is a palindrome (reads the same backward and forward).\n",
    "\n",
    "Example:\n",
    "- Input: abba, madam, malayalam\n",
    "- Output: True"
   ]
  },
  {
   "cell_type": "code",
   "execution_count": 7,
   "id": "bb17ffbd",
   "metadata": {},
   "outputs": [
    {
     "name": "stdout",
     "output_type": "stream",
     "text": [
      "Enter a string: madam\n",
      "Is the string a palindrome? True\n"
     ]
    }
   ],
   "source": [
    "# Non-functional solution: using loops\n",
    "\n",
    "string = input(\"Enter a string: \")\n",
    "is_palindrome = True\n",
    "for i in range(len(string) // 2):\n",
    "    if string[i] != string[-(i + 1)]:\n",
    "        is_palindrome = False\n",
    "        break\n",
    "print(f\"Is the string a palindrome? {is_palindrome}\")"
   ]
  },
  {
   "cell_type": "code",
   "execution_count": 8,
   "id": "ba232bdc",
   "metadata": {},
   "outputs": [
    {
     "name": "stdout",
     "output_type": "stream",
     "text": [
      "Enter a string: abba\n",
      "Is the string a palindrome? True\n"
     ]
    }
   ],
   "source": [
    "# Functional solution: using slicing\n",
    "\n",
    "string = input(\"Enter a string: \")\n",
    "is_palindrome = string == string[::-1]\n",
    "print(f\"Is the string a palindrome? {is_palindrome}\")"
   ]
  },
  {
   "cell_type": "code",
   "execution_count": 9,
   "id": "154447ed",
   "metadata": {},
   "outputs": [
    {
     "name": "stdout",
     "output_type": "stream",
     "text": [
      "True\n",
      "True\n",
      "False\n"
     ]
    }
   ],
   "source": [
    "# Another Solution\n",
    "\n",
    "def is_palindrome(s):\n",
    "    return s == s[::-1]\n",
    "\n",
    "# Test\n",
    "print(is_palindrome(\"abba\"))       # Output: True\n",
    "print(is_palindrome(\"malayalam\"))  # Output: True\n",
    "print(is_palindrome(\"python\"))     # Output: False"
   ]
  },
  {
   "cell_type": "markdown",
   "id": "353eee0c",
   "metadata": {},
   "source": [
    "# 4. Reverse a string without using slicing\n",
    "\n",
    "### Problem: Reverse a string manually without using slicing ([::-1]).\n",
    "\n",
    "Example:\n",
    "- Input: Hello\n",
    "- Output: olleH"
   ]
  },
  {
   "cell_type": "code",
   "execution_count": 10,
   "id": "4c7bf067",
   "metadata": {},
   "outputs": [
    {
     "name": "stdout",
     "output_type": "stream",
     "text": [
      "Enter a string: Hello\n",
      "Reversed string: olleH\n"
     ]
    }
   ],
   "source": [
    "# Non-functional solution: using a loop\n",
    "\n",
    "string = input(\"Enter a string: \")\n",
    "reversed_string = \"\"\n",
    "for char in string:\n",
    "    reversed_string = char + reversed_string\n",
    "print(f\"Reversed string: {reversed_string}\")"
   ]
  },
  {
   "cell_type": "code",
   "execution_count": 11,
   "id": "9abeaf7e",
   "metadata": {},
   "outputs": [
    {
     "name": "stdout",
     "output_type": "stream",
     "text": [
      "olleH\n",
      "nohtyP\n"
     ]
    }
   ],
   "source": [
    "# Another Solution\n",
    "\n",
    "def reverse_string(s):\n",
    "    reversed_s = \"\"\n",
    "    for char in s:\n",
    "        reversed_s = char + reversed_s\n",
    "    return reversed_s\n",
    "\n",
    "# Test\n",
    "print(reverse_string(\"Hello\"))  # Output: olleH\n",
    "print(reverse_string(\"Python\")) # Output: nohtyP"
   ]
  },
  {
   "cell_type": "code",
   "execution_count": 12,
   "id": "23794e4d",
   "metadata": {},
   "outputs": [
    {
     "name": "stdout",
     "output_type": "stream",
     "text": [
      "Enter a string: python\n",
      "Reversed string: nohtyp\n"
     ]
    }
   ],
   "source": [
    "# Functional solution: using reversed()\n",
    "\n",
    "string = input(\"Enter a string: \")\n",
    "reversed_string = \"\".join(reversed(string))\n",
    "print(f\"Reversed string: {reversed_string}\")"
   ]
  },
  {
   "cell_type": "markdown",
   "id": "ebe1ba16",
   "metadata": {},
   "source": [
    "# 5. Count the frequency of each character in a string\n",
    "\n",
    "### Problem: Write a program to count the occurrences of each character in a string.\n",
    "\n",
    "Example:\n",
    "- Input: hello\n",
    "- Output: { 'h': 1, 'e': 1, 'l': 2, 'o': 1 }"
   ]
  },
  {
   "cell_type": "code",
   "execution_count": 13,
   "id": "5c3b4de2",
   "metadata": {},
   "outputs": [
    {
     "name": "stdout",
     "output_type": "stream",
     "text": [
      "Enter a string: hello\n",
      "Character frequencies: {'h': 1, 'e': 1, 'l': 2, 'o': 1}\n"
     ]
    }
   ],
   "source": [
    "# Non-functional solution: using a dictionary\n",
    "\n",
    "string = input(\"Enter a string: \")\n",
    "frequency = {}\n",
    "for char in string:\n",
    "    if char in frequency:\n",
    "        frequency[char] += 1\n",
    "    else:\n",
    "        frequency[char] = 1\n",
    "print(f\"Character frequencies: {frequency}\")"
   ]
  },
  {
   "cell_type": "code",
   "execution_count": 14,
   "id": "db746ea4",
   "metadata": {},
   "outputs": [
    {
     "name": "stdout",
     "output_type": "stream",
     "text": [
      "{'h': 1, 'e': 1, 'l': 2, 'o': 1}\n",
      "{'t': 2, 'e': 1, 's': 1}\n"
     ]
    }
   ],
   "source": [
    "# Another Solution\n",
    "\n",
    "def char_frequency(s):\n",
    "    frequency = {}\n",
    "    for char in s:\n",
    "        frequency[char] = frequency.get(char, 0) + 1\n",
    "    return frequency\n",
    "\n",
    "# Test\n",
    "print(char_frequency(\"hello\"))  # Output: {'h': 1, 'e': 1, 'l': 2, 'o': 1}\n",
    "print(char_frequency(\"test\"))   # Output: {'t': 2, 'e': 1, 's': 1}"
   ]
  },
  {
   "cell_type": "code",
   "execution_count": 15,
   "id": "4f87a780",
   "metadata": {},
   "outputs": [
    {
     "name": "stdout",
     "output_type": "stream",
     "text": [
      "Enter a string: test\n",
      "Character frequencies: {'t': 2, 'e': 1, 's': 1}\n"
     ]
    }
   ],
   "source": [
    "# Functional solution:  using collections.Counter\n",
    "\n",
    "from collections import Counter\n",
    "string = input(\"Enter a string: \")\n",
    "frequency = Counter(string)\n",
    "print(f\"Character frequencies: {dict(frequency)}\")"
   ]
  },
  {
   "cell_type": "markdown",
   "id": "84fa2290",
   "metadata": {},
   "source": [
    "# 6. Find all substrings of a given string\n",
    "\n",
    "### Problem: Generate all possible substrings of a given string.\n",
    "\n",
    "Example:\n",
    "- Input: abc\n",
    "- Output: ['a', 'ab', 'abc', 'b', 'bc', 'c']"
   ]
  },
  {
   "cell_type": "code",
   "execution_count": 16,
   "id": "95d3c233",
   "metadata": {},
   "outputs": [
    {
     "name": "stdout",
     "output_type": "stream",
     "text": [
      "Enter a string: abc\n",
      "All substrings: ['a', 'ab', 'abc', 'b', 'bc', 'c']\n"
     ]
    }
   ],
   "source": [
    "# Non-functional solution: using nested loops\n",
    "\n",
    "string = input(\"Enter a string: \")\n",
    "substrings = []\n",
    "for i in range(len(string)):\n",
    "    for j in range(i + 1, len(string) + 1):\n",
    "        substrings.append(string[i:j])\n",
    "print(f\"All substrings: {substrings}\")"
   ]
  },
  {
   "cell_type": "code",
   "execution_count": 17,
   "id": "a2ad418a",
   "metadata": {},
   "outputs": [
    {
     "name": "stdout",
     "output_type": "stream",
     "text": [
      "Enter a string: abc\n",
      "all_substrings: ['a', 'ab', 'abc', 'b', 'bc', 'c']\n"
     ]
    }
   ],
   "source": [
    "# Another Solution\n",
    "\n",
    "def all_substrings(s):\n",
    "    substrings = []\n",
    "    for i in range(len(s)):\n",
    "        for j in range(i + 1, len(s) + 1):\n",
    "            substrings.append(s[i:j])\n",
    "    return substrings\n",
    "\n",
    "# Test\n",
    "s = input(\"Enter a string: \")\n",
    "print(f\"all_substrings: {substrings}\")  # Output: ['a', 'ab', 'abc', 'b', 'bc', 'c']"
   ]
  },
  {
   "cell_type": "code",
   "execution_count": 18,
   "id": "2441c814",
   "metadata": {},
   "outputs": [
    {
     "name": "stdout",
     "output_type": "stream",
     "text": [
      "Enter a string: abc\n",
      "All substrings: ['a', 'ab', 'abc', 'b', 'bc', 'c']\n"
     ]
    }
   ],
   "source": [
    "# Functional solution: using list comprehension\n",
    "\n",
    "string = input(\"Enter a string: \")\n",
    "substrings = [string[i:j] for i in range(len(string)) for j in range(i + 1, len(string) + 1)]\n",
    "print(f\"All substrings: {substrings}\")"
   ]
  },
  {
   "cell_type": "markdown",
   "id": "7e931f5d",
   "metadata": {},
   "source": [
    "# 7. Check if two strings are anagrams\n",
    "\n",
    "### Problem: Check if two strings are anagrams (contain the same characters in the same frequency).\n",
    "\n",
    "Example:\n",
    "- Input: listen, silent\n",
    "- Output: True"
   ]
  },
  {
   "cell_type": "code",
   "execution_count": 19,
   "id": "1f2bf50f",
   "metadata": {},
   "outputs": [
    {
     "name": "stdout",
     "output_type": "stream",
     "text": [
      "Enter first string: listen\n",
      "Enter second string: silent\n",
      "Are the two strings anagrams? True\n"
     ]
    }
   ],
   "source": [
    "# Non-functional solution: using character frequency\n",
    "\n",
    "string1 = input(\"Enter first string: \")\n",
    "string2 = input(\"Enter second string: \")\n",
    "\n",
    "if len(string1) != len(string2):\n",
    "    is_anagram = False\n",
    "else:\n",
    "    char_count1, char_count2 = {}, {}\n",
    "    for char in string1:\n",
    "        char_count1[char] = char_count1.get(char, 0) + 1\n",
    "    for char in string2:\n",
    "        char_count2[char] = char_count2.get(char, 0) + 1\n",
    "    is_anagram = char_count1 == char_count2\n",
    "\n",
    "print(f\"Are the two strings anagrams? {is_anagram}\")"
   ]
  },
  {
   "cell_type": "code",
   "execution_count": 20,
   "id": "95c9b642",
   "metadata": {},
   "outputs": [
    {
     "name": "stdout",
     "output_type": "stream",
     "text": [
      "Enter first string: hello\n",
      "Enter second string: world\n",
      "Are the two strings anagrams? False\n"
     ]
    }
   ],
   "source": [
    "# Functional solution: using sorted()\n",
    "\n",
    "string1 = input(\"Enter first string: \")\n",
    "string2 = input(\"Enter second string: \")\n",
    "is_anagram = sorted(string1) == sorted(string2)\n",
    "print(f\"Are the two strings anagrams? {is_anagram}\")"
   ]
  },
  {
   "cell_type": "code",
   "execution_count": 21,
   "id": "7a522575",
   "metadata": {},
   "outputs": [
    {
     "name": "stdout",
     "output_type": "stream",
     "text": [
      "Enter first string: listen\n",
      "Enter second string: silent\n",
      "True\n",
      "False\n"
     ]
    }
   ],
   "source": [
    "# Another Solution\n",
    "\n",
    "def are_anagrams(s1, s2):\n",
    "    return sorted(s1) == sorted(s2)\n",
    "\n",
    "s1 = input(\"Enter first string: \")\n",
    "s2 = input(\"Enter second string: \")\n",
    "# Test\n",
    "print(are_anagrams(s1, s2))  # Output: True\n",
    "print(are_anagrams(\"hello\", \"world\"))   # Output: False"
   ]
  },
  {
   "cell_type": "markdown",
   "id": "99efad03",
   "metadata": {},
   "source": [
    "# 8. Remove all duplicate characters from a string\n",
    "\n",
    "### Problem: Write a program to remove duplicate characters while preserving the order.\n",
    "\n",
    "Example:\n",
    "- Input: programming\n",
    "- Output: progamin"
   ]
  },
  {
   "cell_type": "code",
   "execution_count": 22,
   "id": "76e06a32",
   "metadata": {},
   "outputs": [
    {
     "name": "stdout",
     "output_type": "stream",
     "text": [
      "Enter a string: programming\n",
      "String without duplicates: progamin\n"
     ]
    }
   ],
   "source": [
    "# Non-functional solution: using a set and loop\n",
    "\n",
    "string = input(\"Enter a string: \")\n",
    "seen = set()\n",
    "unique_string = \"\"\n",
    "for char in string:\n",
    "    if char not in seen:\n",
    "        seen.add(char)\n",
    "        unique_string += char\n",
    "print(f\"String without duplicates: {unique_string}\")"
   ]
  },
  {
   "cell_type": "code",
   "execution_count": 23,
   "id": "a1a0ef2a",
   "metadata": {},
   "outputs": [
    {
     "name": "stdout",
     "output_type": "stream",
     "text": [
      "progamin\n",
      "helo\n"
     ]
    }
   ],
   "source": [
    "# Another Solution\n",
    "\n",
    "def remove_duplicates(s):\n",
    "    seen = set()\n",
    "    result = \"\"\n",
    "    for char in s:\n",
    "        if char not in seen:\n",
    "            seen.add(char)\n",
    "            result += char\n",
    "    return result\n",
    "\n",
    "# Test\n",
    "print(remove_duplicates(\"programming\"))  # Output: progamin\n",
    "print(remove_duplicates(\"hello\"))        # Output: helo"
   ]
  },
  {
   "cell_type": "code",
   "execution_count": 24,
   "id": "405eb564",
   "metadata": {},
   "outputs": [
    {
     "name": "stdout",
     "output_type": "stream",
     "text": [
      "Enter a string: hello\n",
      "String without duplicates: helo\n"
     ]
    }
   ],
   "source": [
    "# Functional solution: using dict.fromkeys\n",
    "\n",
    "string = input(\"Enter a string: \")\n",
    "unique_string = \"\".join(dict.fromkeys(string))\n",
    "print(f\"String without duplicates: {unique_string}\")"
   ]
  },
  {
   "cell_type": "markdown",
   "id": "738dead5",
   "metadata": {},
   "source": [
    "# 9. Find the first non-repeating character in a string\n",
    "\n",
    "### Problem: Find the first character in a string that does not repeat.\n",
    "\n",
    "Example:\n",
    "- Input: swiss\n",
    "- Output: w"
   ]
  },
  {
   "cell_type": "code",
   "execution_count": 25,
   "id": "b71d2d75",
   "metadata": {},
   "outputs": [
    {
     "name": "stdout",
     "output_type": "stream",
     "text": [
      "Enter a string: swiss\n",
      "First non-repeating character: w\n"
     ]
    }
   ],
   "source": [
    "# Non-functional solution: using a manual approach\n",
    "\n",
    "string = input(\"Enter a string: \")\n",
    "for char in string:\n",
    "    if string.count(char) == 1:\n",
    "        first_non_repeating = char\n",
    "        break\n",
    "else:\n",
    "    first_non_repeating = None\n",
    "print(f\"First non-repeating character: {first_non_repeating}\")"
   ]
  },
  {
   "cell_type": "code",
   "execution_count": 26,
   "id": "f832aa77",
   "metadata": {},
   "outputs": [
    {
     "name": "stdout",
     "output_type": "stream",
     "text": [
      "Enter a string: swiss\n",
      "w\n",
      "None\n"
     ]
    }
   ],
   "source": [
    "# Another Solution\n",
    "\n",
    "def first_non_repeating(s):\n",
    "    frequency = {}\n",
    "    for char in s:\n",
    "        frequency[char] = frequency.get(char, 0) + 1\n",
    "    \n",
    "    for char in s:\n",
    "        if frequency[char] == 1:\n",
    "            return char\n",
    "    return None\n",
    "\n",
    "s = input(\"Enter a string: \")  # Input: swiss\n",
    "# Test\n",
    "print(first_non_repeating(s))  # Output: w\n",
    "print(first_non_repeating(\"aabb\"))   # Output: None"
   ]
  },
  {
   "cell_type": "code",
   "execution_count": 27,
   "id": "8136436a",
   "metadata": {},
   "outputs": [
    {
     "name": "stdout",
     "output_type": "stream",
     "text": [
      "Enter a string: aabb\n",
      "First non-repeating character: None\n"
     ]
    }
   ],
   "source": [
    "# Functional solution: using collections.Counter\n",
    "\n",
    "from collections import Counter\n",
    "string = input(\"Enter a string: \")\n",
    "frequency = Counter(string)\n",
    "first_non_repeating = next((char for char in string if frequency[char] == 1), None)\n",
    "print(f\"First non-repeating character: {first_non_repeating}\")"
   ]
  },
  {
   "cell_type": "markdown",
   "id": "dad1ebab",
   "metadata": {},
   "source": [
    "# 10. Find if a string contains only unique characters\n",
    "\n",
    "### Problem: Check if all characters in a string are unique.\n",
    "\n",
    "Example:\n",
    "- Input: abcdef\n",
    "- Output: True"
   ]
  },
  {
   "cell_type": "code",
   "execution_count": 28,
   "id": "b02a7911",
   "metadata": {},
   "outputs": [
    {
     "name": "stdout",
     "output_type": "stream",
     "text": [
      "Enter a string: abcdef\n",
      "Are all characters in the string unique? True\n"
     ]
    }
   ],
   "source": [
    "# Non-Functional Solution: using manual loop\n",
    "\n",
    "def has_unique_chars(s):\n",
    "    seen = set()\n",
    "    for char in s:\n",
    "        if char in seen:\n",
    "            return False\n",
    "        seen.add(char)\n",
    "    return True\n",
    "\n",
    "# User Input\n",
    "string = input(\"Enter a string: \")\n",
    "print(f\"Are all characters in the string unique? {has_unique_chars(string)}\")"
   ]
  },
  {
   "cell_type": "code",
   "execution_count": 29,
   "id": "a47abefd",
   "metadata": {},
   "outputs": [
    {
     "name": "stdout",
     "output_type": "stream",
     "text": [
      "Enter a string: hello\n",
      "Are all characters in the string unique? False\n"
     ]
    }
   ],
   "source": [
    "# Functional Solution: using set\n",
    "\n",
    "def has_unique_chars(s):\n",
    "    return len(set(s)) == len(s)\n",
    "\n",
    "# User Input\n",
    "string = input(\"Enter a string: \")\n",
    "print(f\"Are all characters in the string unique? {has_unique_chars(string)}\")"
   ]
  },
  {
   "cell_type": "code",
   "execution_count": 30,
   "id": "b1a1b55b",
   "metadata": {},
   "outputs": [
    {
     "name": "stdout",
     "output_type": "stream",
     "text": [
      "True\n",
      "False\n"
     ]
    }
   ],
   "source": [
    "# Another Solution\n",
    "\n",
    "def is_unique(s):\n",
    "    return len(set(s)) == len(s)\n",
    "\n",
    "# Test\n",
    "print(is_unique(\"abcdef\"))  # Output: True\n",
    "print(is_unique(\"hello\"))   # Output: False"
   ]
  },
  {
   "cell_type": "markdown",
   "id": "819dee64",
   "metadata": {},
   "source": [
    "# 11. Print all permutations of a string\n",
    "\n",
    "### Problem: Generate all possible permutations of a given string.\n",
    "\n",
    "Example:\n",
    "- Input: abc\n",
    "- Output: ['abc', 'acb', 'bac', 'bca', 'cab', 'cba']"
   ]
  },
  {
   "cell_type": "code",
   "execution_count": 31,
   "id": "9c035409",
   "metadata": {},
   "outputs": [
    {
     "name": "stdout",
     "output_type": "stream",
     "text": [
      "Enter a string: abc\n",
      "Permutations of the string: ['abc', 'acb', 'bac', 'bca', 'cab', 'cba']\n"
     ]
    }
   ],
   "source": [
    "# Non-Functional Solution: using recursion\n",
    "\n",
    "def generate_permutations(s):\n",
    "    if len(s) == 1:\n",
    "        return [s]\n",
    "    perms = []\n",
    "    for i in range(len(s)):\n",
    "        for perm in generate_permutations(s[:i] + s[i+1:]):  # Recurse for all substrings\n",
    "            perms.append(s[i] + perm)\n",
    "    return perms\n",
    "\n",
    "# User Input\n",
    "string = input(\"Enter a string: \")\n",
    "print(f\"Permutations of the string: {generate_permutations(string)}\")"
   ]
  },
  {
   "cell_type": "code",
   "execution_count": 32,
   "id": "642068d1",
   "metadata": {},
   "outputs": [
    {
     "name": "stdout",
     "output_type": "stream",
     "text": [
      "Enter a string: abc\n",
      "Permutations of the string: ['abc', 'acb', 'bac', 'bca', 'cab', 'cba']\n"
     ]
    }
   ],
   "source": [
    "# Functional Solution: using itertools.permutations\n",
    "\n",
    "from itertools import permutations\n",
    "\n",
    "def generate_permutations(s):\n",
    "    return [\"\".join(p) for p in permutations(s)]\n",
    "\n",
    "# User Input\n",
    "string = input(\"Enter a string: \")\n",
    "print(f\"Permutations of the string: {generate_permutations(string)}\")"
   ]
  },
  {
   "cell_type": "code",
   "execution_count": 33,
   "id": "779d0d66",
   "metadata": {},
   "outputs": [
    {
     "name": "stdout",
     "output_type": "stream",
     "text": [
      "['abc', 'acb', 'bac', 'bca', 'cab', 'cba']\n"
     ]
    }
   ],
   "source": [
    "# Another Solution\n",
    "\n",
    "from itertools import permutations\n",
    "\n",
    "def all_permutations(s):\n",
    "    return [\"\".join(p) for p in permutations(s)]\n",
    "\n",
    "# Test\n",
    "print(all_permutations(\"abc\"))  # Output: ['abc', 'acb', 'bac', 'bca', 'cab', 'cba']"
   ]
  },
  {
   "cell_type": "markdown",
   "id": "ed1ad348",
   "metadata": {},
   "source": [
    "# 12. Validate a given string as a valid email address\n",
    "\n",
    "### Problem: Check if a string is a valid email address.\n",
    "\n",
    "Example:\n",
    "- Input: test@example.com\n",
    "- Output: True"
   ]
  },
  {
   "cell_type": "code",
   "execution_count": 34,
   "id": "35174727",
   "metadata": {},
   "outputs": [
    {
     "name": "stdout",
     "output_type": "stream",
     "text": [
      "Enter an email: test@example.com\n",
      "Is the email valid? True\n"
     ]
    }
   ],
   "source": [
    "# Non-functional solution: without regex\n",
    "\n",
    "email = input(\"Enter an email: \")\n",
    "if \"@\" in email and \".\" in email.split(\"@\")[-1]:\n",
    "    is_valid = True\n",
    "else:\n",
    "    is_valid = False\n",
    "print(f\"Is the email valid? {is_valid}\")"
   ]
  },
  {
   "cell_type": "code",
   "execution_count": 35,
   "id": "f8b85bbb",
   "metadata": {},
   "outputs": [
    {
     "name": "stdout",
     "output_type": "stream",
     "text": [
      "Enter an email: shormi@gmail.com\n",
      "Is the email valid? True\n"
     ]
    }
   ],
   "source": [
    "# Functional solution: using regex\n",
    "\n",
    "import re\n",
    "email = input(\"Enter an email: \")\n",
    "is_valid = bool(re.match(r\"^[a-zA-Z0-9_.+-]+@[a-zA-Z0-9-]+\\.[a-zA-Z0-9-.]+$\", email))\n",
    "print(f\"Is the email valid? {is_valid}\")"
   ]
  },
  {
   "cell_type": "code",
   "execution_count": 36,
   "id": "a9bd9e50",
   "metadata": {},
   "outputs": [
    {
     "name": "stdout",
     "output_type": "stream",
     "text": [
      "True\n",
      "False\n"
     ]
    }
   ],
   "source": [
    "# Another Solution\n",
    "\n",
    "import re\n",
    "\n",
    "def is_valid_email(email):\n",
    "    pattern = r'^[a-zA-Z0-9_.+-]+@[a-zA-Z0-9-]+\\.[a-zA-Z0-9-.]+$'\n",
    "    return re.match(pattern, email) is not None\n",
    "\n",
    "# Test\n",
    "print(is_valid_email(\"test@example.com\"))  # Output: True\n",
    "print(is_valid_email(\"invalid-email\"))     # Output: False"
   ]
  },
  {
   "cell_type": "markdown",
   "id": "5f7c5d5e",
   "metadata": {},
   "source": [
    "# 13. Reverse each word in a string"
   ]
  },
  {
   "cell_type": "code",
   "execution_count": 37,
   "id": "ef2cac0f",
   "metadata": {},
   "outputs": [
    {
     "name": "stdout",
     "output_type": "stream",
     "text": [
      "Enter a sentence: I'm a Bangladeshi\n",
      "Sentence with reversed words: m'I a ihsedalgnaB\n"
     ]
    }
   ],
   "source": [
    "# Non-functional solution: using a loop\n",
    "\n",
    "string = input(\"Enter a sentence: \")\n",
    "words = string.split()\n",
    "reversed_words = []\n",
    "for word in words:\n",
    "    reversed_word = \"\"\n",
    "    for char in word:\n",
    "        reversed_word = char + reversed_word\n",
    "    reversed_words.append(reversed_word)\n",
    "print(f\"Sentence with reversed words: {' '.join(reversed_words)}\")"
   ]
  },
  {
   "cell_type": "code",
   "execution_count": 38,
   "id": "2706c318",
   "metadata": {},
   "outputs": [
    {
     "name": "stdout",
     "output_type": "stream",
     "text": [
      "Enter a sentence: My name is shormi\n",
      "Sentence with reversed words: yM eman si imrohs\n"
     ]
    }
   ],
   "source": [
    "# Functional solution: using split and list comprehension\n",
    "\n",
    "string = input(\"Enter a sentence: \")\n",
    "reversed_words = \" \".join(word[::-1] for word in string.split())\n",
    "print(f\"Sentence with reversed words: {reversed_words}\")"
   ]
  },
  {
   "cell_type": "code",
   "execution_count": 39,
   "id": "6f05ffab",
   "metadata": {},
   "outputs": [
    {
     "name": "stdout",
     "output_type": "stream",
     "text": [
      "Enter a sentence: i live in bangladesh\n",
      "Sentence with reversed words: i evil ni hsedalgnab\n"
     ]
    }
   ],
   "source": [
    "# Another Solution\n",
    "\n",
    "def reverse_word(s):\n",
    "    reversed_words = \" \".join(word[::-1] for word in s.split())\n",
    "    return reversed_words\n",
    "\n",
    "s = input(\"Enter a sentence: \")\n",
    "print(f\"Sentence with reversed words: {reverse_word(s)}\")"
   ]
  },
  {
   "cell_type": "code",
   "execution_count": null,
   "id": "b81889d1",
   "metadata": {},
   "outputs": [],
   "source": []
  }
 ],
 "metadata": {
  "kernelspec": {
   "display_name": "Python 3 (ipykernel)",
   "language": "python",
   "name": "python3"
  },
  "language_info": {
   "codemirror_mode": {
    "name": "ipython",
    "version": 3
   },
   "file_extension": ".py",
   "mimetype": "text/x-python",
   "name": "python",
   "nbconvert_exporter": "python",
   "pygments_lexer": "ipython3",
   "version": "3.11.5"
  }
 },
 "nbformat": 4,
 "nbformat_minor": 5
}
