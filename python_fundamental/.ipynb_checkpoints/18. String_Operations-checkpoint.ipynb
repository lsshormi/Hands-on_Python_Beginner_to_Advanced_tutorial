{
 "cells": [
  {
   "cell_type": "markdown",
   "id": "b65bca13",
   "metadata": {},
   "source": [
    "# String Operations in Python\n",
    "\n",
    "## Overview\n",
    "In Python, strings are sequences of characters that support various operations. Understanding these operations is crucial for effective programming.\n",
    "\n",
    "## Types of String Operations\n",
    "\n",
    "### 1. **Arithmetic Operators**\n",
    "- **Concatenation (`+`)**: Combines two strings.\n",
    "  - Example: `\"Hello\" + \" World\"` results in `\"Hello World\"` .\n",
    "  \n",
    "### 2. **Relational Operators**\n",
    "- Used to compare strings.\n",
    "  - Example: `\"abc\" < \"bcd\"` evaluates to `True` because \"abc\" comes before \"bcd\".\n",
    "\n",
    "### 3. **Logical Operators**\n",
    "- Operate on boolean values.\n",
    "  - Example: If you check conditions like `if \"Hello\" and \"World\":`, it evaluates to `True` since both strings are non-empty .\n",
    "\n",
    "### 4. **Membership Operators**\n",
    "- Check for the presence of a substring within a string.\n",
    "  - Example: `\"Hello\" in \"Hello World\"` evaluates to `True`.\n",
    "\n",
    "## Important String Methods\n",
    "- **`len(string)`**: Returns the length of the string.\n",
    "- **`string.lower()`**: Converts all characters to lowercase.\n",
    "- **`string.upper()`**: Converts all characters to uppercase.\n",
    "- **`string.split(separator)`**: Splits the string into a list based on the separator.\n",
    "\n",
    "## Summary\n",
    "Understanding string operations in Python is essential for manipulating text data effectively. Focus on practicing these operations and methods to enhance your coding skills.\n"
   ]
  },
  {
   "cell_type": "markdown",
   "id": "3df1b3ef",
   "metadata": {},
   "source": [
    "## 1. Arithmetic Operations"
   ]
  },
  {
   "cell_type": "markdown",
   "id": "1f992596",
   "metadata": {},
   "source": [
    "\n",
    "Arithmetic operations on strings primarily involve concatenation and repetition using the `+` and `*` operators.\n",
    "\n",
    "**Examples:**    "
   ]
  },
  {
   "cell_type": "code",
   "execution_count": 1,
   "id": "66a36eb9",
   "metadata": {},
   "outputs": [
    {
     "name": "stdout",
     "output_type": "stream",
     "text": [
      "Hello World\n",
      "HelloHelloHello\n"
     ]
    }
   ],
   "source": [
    "\n",
    "# Concatenation using +\n",
    "str1 = \"Hello\"\n",
    "str2 = \"World\"\n",
    "result = str1 + \" \" + str2\n",
    "print(result)  # Output: Hello World\n",
    "\n",
    "# Repetition using *\n",
    "repeated = str1 * 3\n",
    "print(repeated)  # Output: HelloHelloHello\n",
    "        "
   ]
  },
  {
   "cell_type": "markdown",
   "id": "12f43a28",
   "metadata": {},
   "source": [
    "## 2. Relational Operations"
   ]
  },
  {
   "cell_type": "markdown",
   "id": "a170380b",
   "metadata": {},
   "source": [
    "\n",
    "Relational operations compare strings and return boolean values. Comparisons are based on the lexicographical order (dictionary order).\n",
    "\n",
    "**Examples:**\n",
    "        "
   ]
  },
  {
   "cell_type": "code",
   "execution_count": 2,
   "id": "a0a3321f",
   "metadata": {},
   "outputs": [
    {
     "name": "stdout",
     "output_type": "stream",
     "text": [
      "False\n",
      "True\n",
      "False\n"
     ]
    }
   ],
   "source": [
    "\n",
    "str1 = \"apple\"\n",
    "str2 = \"banana\"\n",
    "\n",
    "# Equality check\n",
    "print(str1 == str2)  # Output: False\n",
    "\n",
    "# Greater than or less than\n",
    "print(str1 < str2)   # Output: True\n",
    "print(str1 > str2)   # Output: False\n",
    "        "
   ]
  },
  {
   "cell_type": "markdown",
   "id": "9ca0710c",
   "metadata": {},
   "source": [
    "## 3. Logical Operations"
   ]
  },
  {
   "cell_type": "markdown",
   "id": "5d782566",
   "metadata": {},
   "source": [
    "\n",
    "Logical operations (`and`, `or`, `not`) can be applied to strings to check for truthiness. Non-empty strings are considered `True`, while empty strings are `False`.\n",
    "\n",
    "**Examples:**     "
   ]
  },
  {
   "cell_type": "code",
   "execution_count": 3,
   "id": "87d349a0",
   "metadata": {},
   "outputs": [
    {
     "name": "stdout",
     "output_type": "stream",
     "text": [
      "\n",
      "Python\n",
      "False\n",
      "True\n"
     ]
    }
   ],
   "source": [
    "\n",
    "str1 = \"Python\"\n",
    "str2 = \"\"\n",
    "\n",
    "# Logical AND\n",
    "print(str1 and str2)  # Output: (empty string)\n",
    "\n",
    "# Logical OR\n",
    "print(str1 or str2)   # Output: Python\n",
    "\n",
    "# Logical NOT\n",
    "print(not str1)       # Output: False\n",
    "print(not str2)       # Output: True\n",
    "        "
   ]
  },
  {
   "cell_type": "markdown",
   "id": "fd8f1f41",
   "metadata": {},
   "source": [
    "## 4. Loops on Strings"
   ]
  },
  {
   "cell_type": "markdown",
   "id": "2b1e7695",
   "metadata": {},
   "source": [
    "\n",
    "You can iterate over strings using loops to process each character individually.\n",
    "\n",
    "**Examples:**\n",
    "        "
   ]
  },
  {
   "cell_type": "code",
   "execution_count": 4,
   "id": "32486b1c",
   "metadata": {},
   "outputs": [
    {
     "name": "stdout",
     "output_type": "stream",
     "text": [
      "P y t h o n \n",
      "P y t h o n "
     ]
    }
   ],
   "source": [
    "\n",
    "my_string = \"Python\"\n",
    "\n",
    "# For loop\n",
    "for char in my_string:\n",
    "    print(char, end=\" \")  # Output: P y t h o n\n",
    "\n",
    "print()\n",
    "\n",
    "# While loop\n",
    "index = 0\n",
    "while index < len(my_string):\n",
    "    print(my_string[index], end=\" \")  # Output: P y t h o n\n",
    "    index += 1\n",
    "        "
   ]
  },
  {
   "cell_type": "markdown",
   "id": "e02ce534",
   "metadata": {},
   "source": [
    "## 5. Membership Operations"
   ]
  },
  {
   "cell_type": "markdown",
   "id": "8f9a3228",
   "metadata": {},
   "source": [
    "\n",
    "Membership operations (`in` and `not in`) check for the presence or absence of a substring in a string.\n",
    "\n",
    "**Examples:**\n",
    "        "
   ]
  },
  {
   "cell_type": "code",
   "execution_count": 5,
   "id": "ecc5dd2c",
   "metadata": {},
   "outputs": [
    {
     "name": "stdout",
     "output_type": "stream",
     "text": [
      "True\n",
      "False\n",
      "False\n",
      "True\n"
     ]
    }
   ],
   "source": [
    "\n",
    "my_string = \"Python programming\"\n",
    "\n",
    "# Check if substring is present\n",
    "print(\"Python\" in my_string)  # Output: True\n",
    "print(\"Java\" in my_string)    # Output: False\n",
    "\n",
    "# Check if substring is absent\n",
    "print(\"Python\" not in my_string)  # Output: False\n",
    "print(\"Java\" not in my_string)    # Output: True\n",
    "        "
   ]
  }
 ],
 "metadata": {
  "kernelspec": {
   "display_name": "Python 3 (ipykernel)",
   "language": "python",
   "name": "python3"
  },
  "language_info": {
   "codemirror_mode": {
    "name": "ipython",
    "version": 3
   },
   "file_extension": ".py",
   "mimetype": "text/x-python",
   "name": "python",
   "nbconvert_exporter": "python",
   "pygments_lexer": "ipython3",
   "version": "3.11.5"
  }
 },
 "nbformat": 4,
 "nbformat_minor": 5
}
