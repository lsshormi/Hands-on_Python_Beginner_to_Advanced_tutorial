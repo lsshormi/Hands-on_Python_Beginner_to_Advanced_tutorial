{
 "cells": [
  {
   "cell_type": "markdown",
   "id": "293c3547",
   "metadata": {},
   "source": [
    "## Let's create a guessing game based on what we've learned so far. \n",
    "In this game, a random integer number will be chosen, and the user will be prompted to guess the number. If the user guesses correctly, they will be notified of their correct guess. If not, they will be prompted to guess again until they guess the correct number. Afterward, they will be informed of the number of attempts it took to guess the number. "
   ]
  },
  {
   "cell_type": "code",
   "execution_count": 1,
   "id": "8344a25f",
   "metadata": {},
   "outputs": [],
   "source": [
    "import random"
   ]
  },
  {
   "cell_type": "code",
   "execution_count": 2,
   "id": "0246bab2",
   "metadata": {},
   "outputs": [
    {
     "data": {
      "text/plain": [
       "87"
      ]
     },
     "execution_count": 2,
     "metadata": {},
     "output_type": "execute_result"
    }
   ],
   "source": [
    "random.randint(1,100)"
   ]
  },
  {
   "cell_type": "code",
   "execution_count": 3,
   "id": "bdbf6351",
   "metadata": {},
   "outputs": [
    {
     "name": "stdout",
     "output_type": "stream",
     "text": [
      "Guess the number 45\n",
      "Guess Higher\n",
      "Guess the number 60\n",
      "Guess Higher\n",
      "Guess the number 80\n",
      "Guess Higher\n",
      "Guess the number 90\n",
      "Guess Lower\n",
      "Guess the number 85\n",
      "Congratulations! You guessed the correct number.\n",
      "You took 5 attempts\n"
     ]
    }
   ],
   "source": [
    "jackpot = random.randint(1,100)\n",
    "\n",
    "guess = int(input(\"Guess the number \"))\n",
    "counter = 1\n",
    "\n",
    "while guess != jackpot:\n",
    "    if guess < jackpot:\n",
    "        print(\"Guess Higher\")\n",
    "    else:\n",
    "        print(\"Guess Lower\")\n",
    "        \n",
    "    guess = int(input(\"Guess the number \"))\n",
    "    counter+=1\n",
    " \n",
    "print(\"Congratulations! You guessed the correct number.\")\n",
    "print(\"You took\",counter,\"attempts\")"
   ]
  },
  {
   "cell_type": "code",
   "execution_count": null,
   "id": "84a31b5e",
   "metadata": {},
   "outputs": [],
   "source": []
  }
 ],
 "metadata": {
  "kernelspec": {
   "display_name": "Python 3 (ipykernel)",
   "language": "python",
   "name": "python3"
  },
  "language_info": {
   "codemirror_mode": {
    "name": "ipython",
    "version": 3
   },
   "file_extension": ".py",
   "mimetype": "text/x-python",
   "name": "python",
   "nbconvert_exporter": "python",
   "pygments_lexer": "ipython3",
   "version": "3.11.5"
  }
 },
 "nbformat": 4,
 "nbformat_minor": 5
}
