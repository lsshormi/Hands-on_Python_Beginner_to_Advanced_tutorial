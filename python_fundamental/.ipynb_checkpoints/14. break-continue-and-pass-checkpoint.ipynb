{
 "cells": [
  {
   "cell_type": "markdown",
   "id": "82dc8a43",
   "metadata": {},
   "source": [
    "# break Statement\n",
    "The break statement terminates the loop immediately when it's encountered."
   ]
  },
  {
   "cell_type": "code",
   "execution_count": 1,
   "id": "a7018c81",
   "metadata": {},
   "outputs": [
    {
     "name": "stdout",
     "output_type": "stream",
     "text": [
      "1\n",
      "2\n",
      "3\n",
      "4\n"
     ]
    }
   ],
   "source": [
    "for i in range(1,11):\n",
    "    if i == 5:\n",
    "        break\n",
    "    print(i)"
   ]
  },
  {
   "cell_type": "markdown",
   "id": "e430502f",
   "metadata": {},
   "source": [
    "# continue Statement\n",
    "The continue statement skips the current iteration of the loop and the control flow of the program goes to the next iteration."
   ]
  },
  {
   "cell_type": "markdown",
   "id": "42a44c76",
   "metadata": {},
   "source": [
    "In the case of a continue statement, when a particular condition is met, only that specific iteration is skipped, and the rest are executed."
   ]
  },
  {
   "cell_type": "code",
   "execution_count": 2,
   "id": "80ef0f06",
   "metadata": {},
   "outputs": [
    {
     "name": "stdout",
     "output_type": "stream",
     "text": [
      "1\n",
      "2\n",
      "3\n",
      "4\n",
      "6\n",
      "7\n",
      "8\n",
      "9\n",
      "10\n"
     ]
    }
   ],
   "source": [
    "#here only 5 will be skiped.\n",
    "for i in range(1,11):\n",
    "    if i == 5:\n",
    "        continue    \n",
    "    print(i)"
   ]
  },
  {
   "cell_type": "markdown",
   "id": "5230cd74",
   "metadata": {},
   "source": [
    "A useful scenario for using the continue statement is when you want to display available stock products on a website's home page. You would write a code, run a loop, and set a condition for the product. If the product is available in stock, you would display it on the homepage. If the product is not available, you would use the continue statement to skip the display product code and move to the next iteration of the loop."
   ]
  },
  {
   "cell_type": "markdown",
   "id": "b56df7cc",
   "metadata": {},
   "source": [
    "# pass Statement\n",
    "In Python programming, the pass statement is a null statement which can be used as a placeholder for future code.\n",
    "\n",
    "Suppose we have a loop or a function that is not implemented yet, but we want to implement it in the future. In such cases, we can use the pass statement."
   ]
  },
  {
   "cell_type": "code",
   "execution_count": 3,
   "id": "6e7d1e02",
   "metadata": {},
   "outputs": [],
   "source": [
    "for i in range(1,11):\n",
    "    pass"
   ]
  },
  {
   "cell_type": "markdown",
   "id": "eaa9c9d7",
   "metadata": {},
   "source": [
    "to learn more and practice check out these websites,\n",
    "1. https://www.geeksforgeeks.org/break-continue-and-pass-in-python/\n",
    "2. https://www.programiz.com/python-programming/break-continue"
   ]
  },
  {
   "cell_type": "code",
   "execution_count": null,
   "id": "8eeac26d",
   "metadata": {},
   "outputs": [],
   "source": []
  }
 ],
 "metadata": {
  "kernelspec": {
   "display_name": "Python 3 (ipykernel)",
   "language": "python",
   "name": "python3"
  },
  "language_info": {
   "codemirror_mode": {
    "name": "ipython",
    "version": 3
   },
   "file_extension": ".py",
   "mimetype": "text/x-python",
   "name": "python",
   "nbconvert_exporter": "python",
   "pygments_lexer": "ipython3",
   "version": "3.11.5"
  }
 },
 "nbformat": 4,
 "nbformat_minor": 5
}
