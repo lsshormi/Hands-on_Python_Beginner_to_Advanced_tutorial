{
 "cells": [
  {
   "cell_type": "markdown",
   "id": "7ac93308",
   "metadata": {},
   "source": [
    "# Nested Loops\n",
    "A nested loop is a loop inside a loop.\n",
    "\n",
    "The \"inner loop\" will be executed one time for each iteration of the \"outer loop\":"
   ]
  },
  {
   "cell_type": "code",
   "execution_count": 1,
   "id": "38e47197",
   "metadata": {},
   "outputs": [],
   "source": [
    "# *\n",
    "# **\n",
    "# ***\n",
    "# ****\n",
    "# *****"
   ]
  },
  {
   "cell_type": "code",
   "execution_count": 2,
   "id": "5b7013c4",
   "metadata": {},
   "outputs": [
    {
     "name": "stdout",
     "output_type": "stream",
     "text": [
      "Enter the number of rows: 5\n",
      "* \n",
      "* * \n",
      "* * * \n",
      "* * * * \n",
      "* * * * * \n"
     ]
    }
   ],
   "source": [
    "rows = int(input(\"Enter the number of rows: \"))\n",
    "for i in range(1,rows+1):\n",
    "    for j in range(0,i):\n",
    "        print(\"*\", end= \" \")\n",
    "    print(\"\")"
   ]
  },
  {
   "cell_type": "markdown",
   "id": "ae3c8470",
   "metadata": {},
   "source": [
    "If you want to understand the nested loop in a better way, you can visualize this code through a tool. It is a tool where you can see each line of code being executed step by step.\n",
    "https://pythontutor.com/python-compiler.html#mode=edit"
   ]
  },
  {
   "cell_type": "code",
   "execution_count": null,
   "id": "723ab581",
   "metadata": {},
   "outputs": [],
   "source": []
  },
  {
   "cell_type": "markdown",
   "id": "e888b6b5",
   "metadata": {},
   "source": [
    "## Why we use nested loop \n",
    "Using nested loops is generally not preferable due to their impact on time complexity. However, in certain situations, nested loops are essential because there may be no other solution. For instance, if you are building a social media platform and need to determine how many friends each user has, you would need to run a loop for all users and then run an inner loop to find the friend count for each user by entering their ID.\n",
    "\n",
    "Similarly, in a banking scenario, if you want to track the total number of transactions processed by the bank, you would need to use a nested loop. The first loop would iterate through all the users, and the inner loop would be used to count each user's transactions."
   ]
  },
  {
   "cell_type": "markdown",
   "id": "b8ff64be",
   "metadata": {},
   "source": [
    "### how to avoid nested loops python\n",
    "\n",
    "When working with nested loops in Python, it's common to encounter performance issues or complex code. To avoid nested loops, you can consider alternative approaches such as:\n",
    "\n",
    "1. Flat loop: Flatten the nested loop structure by joining the loops into a single loop.\n",
    "2. List comprehension: Use list comprehension to simplify and optimize loops.\n",
    "3. Functional programming: Leverage functional programming techniques, such as map, filter, and reduce, to handle iterative processes.\n",
    "4. Library optimization: Utilize libraries like NumPy or Pandas, which handle nested loops efficiently.\n",
    "5. Parallel processing: Consider using parallel processing techniques, like multiprocessing or threading, to distribute workload."
   ]
  },
  {
   "cell_type": "markdown",
   "id": "0385e0b0",
   "metadata": {},
   "source": [
    "know more about nested loop\n",
    "https://www.geeksforgeeks.org/python-nested-loops/"
   ]
  },
  {
   "cell_type": "code",
   "execution_count": null,
   "id": "81b3cae0",
   "metadata": {},
   "outputs": [],
   "source": []
  }
 ],
 "metadata": {
  "kernelspec": {
   "display_name": "Python 3 (ipykernel)",
   "language": "python",
   "name": "python3"
  },
  "language_info": {
   "codemirror_mode": {
    "name": "ipython",
    "version": 3
   },
   "file_extension": ".py",
   "mimetype": "text/x-python",
   "name": "python",
   "nbconvert_exporter": "python",
   "pygments_lexer": "ipython3",
   "version": "3.11.5"
  }
 },
 "nbformat": 4,
 "nbformat_minor": 5
}
