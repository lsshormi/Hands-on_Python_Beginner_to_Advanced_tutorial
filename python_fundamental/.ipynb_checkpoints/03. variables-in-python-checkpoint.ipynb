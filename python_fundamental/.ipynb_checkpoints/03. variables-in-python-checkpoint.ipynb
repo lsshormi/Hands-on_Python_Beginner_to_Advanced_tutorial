{
 "cells": [
  {
   "cell_type": "markdown",
   "id": "1a5631f8",
   "metadata": {},
   "source": [
    "## Variables\n",
    "Variables are containers for storing data values.\n",
    "\n",
    "## Creating Variables\n",
    "Python has no command for declaring a variable.\n",
    "\n",
    "A variable is created the moment you first assign a value to it.\n",
    "\n"
   ]
  },
  {
   "cell_type": "code",
   "execution_count": 1,
   "id": "a6dca5fa",
   "metadata": {},
   "outputs": [],
   "source": [
    "name = 'Shormi'"
   ]
  },
  {
   "cell_type": "code",
   "execution_count": 2,
   "id": "78c371bb",
   "metadata": {},
   "outputs": [
    {
     "name": "stdout",
     "output_type": "stream",
     "text": [
      "Shormi\n"
     ]
    }
   ],
   "source": [
    "print(name)"
   ]
  },
  {
   "cell_type": "code",
   "execution_count": 1,
   "id": "c9fa912b",
   "metadata": {},
   "outputs": [
    {
     "name": "stdout",
     "output_type": "stream",
     "text": [
      "Hello world\n"
     ]
    }
   ],
   "source": [
    "name = 'Hello world'\n",
    "print(name)"
   ]
  },
  {
   "cell_type": "markdown",
   "id": "f7899a28",
   "metadata": {},
   "source": [
    "### Python does not require declaring variable data types; it can understand the data type based on the value assigned to the variable."
   ]
  },
  {
   "cell_type": "code",
   "execution_count": 2,
   "id": "d8104426",
   "metadata": {},
   "outputs": [],
   "source": [
    "# no variable declaration\n",
    "# Dynamic Typing --> PHP,Python\n",
    "# Static typing"
   ]
  },
  {
   "cell_type": "code",
   "execution_count": 3,
   "id": "1c1d09b0",
   "metadata": {},
   "outputs": [
    {
     "name": "stdout",
     "output_type": "stream",
     "text": [
      "True\n"
     ]
    }
   ],
   "source": [
    "name = True\n",
    "print(name)"
   ]
  },
  {
   "cell_type": "code",
   "execution_count": 4,
   "id": "75950313",
   "metadata": {},
   "outputs": [],
   "source": [
    "# Dynamic Binding\n",
    "\n",
    "# Static Bindning"
   ]
  },
  {
   "cell_type": "code",
   "execution_count": 5,
   "id": "cdcb7938",
   "metadata": {},
   "outputs": [
    {
     "name": "stdout",
     "output_type": "stream",
     "text": [
      "5\n",
      "6\n",
      "7\n"
     ]
    }
   ],
   "source": [
    "# special syntax\n",
    "a = 5;b=6;c=7\n",
    "print(a)\n",
    "print(b)\n",
    "print(c)"
   ]
  },
  {
   "cell_type": "code",
   "execution_count": 6,
   "id": "dade3fa1",
   "metadata": {},
   "outputs": [
    {
     "name": "stdout",
     "output_type": "stream",
     "text": [
      "4\n",
      "5\n",
      "6\n"
     ]
    }
   ],
   "source": [
    "a,b,c = 4,5,6\n",
    "print(a)\n",
    "print(b)\n",
    "print(c)"
   ]
  },
  {
   "cell_type": "code",
   "execution_count": 7,
   "id": "34096fc0",
   "metadata": {},
   "outputs": [
    {
     "name": "stdout",
     "output_type": "stream",
     "text": [
      "6\n",
      "6\n",
      "6\n"
     ]
    }
   ],
   "source": [
    "a = b = c = 6\n",
    "print(a)\n",
    "print(b)\n",
    "print(c)"
   ]
  },
  {
   "cell_type": "code",
   "execution_count": null,
   "id": "58da63e7",
   "metadata": {},
   "outputs": [],
   "source": []
  }
 ],
 "metadata": {
  "kernelspec": {
   "display_name": "Python 3 (ipykernel)",
   "language": "python",
   "name": "python3"
  },
  "language_info": {
   "codemirror_mode": {
    "name": "ipython",
    "version": 3
   },
   "file_extension": ".py",
   "mimetype": "text/x-python",
   "name": "python",
   "nbconvert_exporter": "python",
   "pygments_lexer": "ipython3",
   "version": "3.11.5"
  }
 },
 "nbformat": 4,
 "nbformat_minor": 5
}
