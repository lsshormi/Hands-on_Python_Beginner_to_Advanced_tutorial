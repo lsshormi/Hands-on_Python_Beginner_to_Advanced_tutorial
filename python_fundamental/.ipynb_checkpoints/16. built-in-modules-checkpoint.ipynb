{
 "cells": [
  {
   "cell_type": "markdown",
   "id": "2a89b52e",
   "metadata": {},
   "source": [
    "## What are modules?\n",
    "\n",
    "##### Consider a module to be the same as a code library.\n",
    "\n",
    "##### A file containing a set of functions you want to include in your application.\n",
    "\n",
    "##### Examples of python modules\n",
    "- Math\n",
    "- Random\n",
    "- os\n",
    "- time\n",
    "\n"
   ]
  },
  {
   "cell_type": "markdown",
   "id": "337a3fa8",
   "metadata": {},
   "source": [
    "** To see how many modules are available in my system, we can simply pass the module function into the help function.\n",
    "\n",
    "** As now I am using Anaconda, it will display the number of installed modules and the ones available on this platform."
   ]
  },
  {
   "cell_type": "code",
   "execution_count": 1,
   "id": "0c6c5b3a",
   "metadata": {},
   "outputs": [
    {
     "name": "stdout",
     "output_type": "stream",
     "text": [
      "\n",
      "Please wait a moment while I gather a list of all available modules...\n",
      "\n"
     ]
    },
    {
     "name": "stderr",
     "output_type": "stream",
     "text": [
      "WARNING: AstropyDeprecationWarning: The private astropy._erfa module has been made into its own package, pyerfa, which is a dependency of astropy and can be imported directly using \"import erfa\" [astropy._erfa]\n",
      "/home/shormi/anaconda3/lib/python3.11/site-packages/moviepy/video/fx/painting.py:7: DeprecationWarning: Please use `sobel` from the `scipy.ndimage` namespace, the `scipy.ndimage.filters` namespace is deprecated.\n",
      "  from scipy.ndimage.filters import sobel\n",
      "/home/shormi/anaconda3/lib/python3.11/site-packages/nltk/twitter/__init__.py:20: UserWarning: The twython library has not been installed. Some functionality from the twitter package will not be available.\n",
      "  warnings.warn(\n",
      "/home/shormi/anaconda3/lib/python3.11/site-packages/notebook/utils.py:280: DeprecationWarning: distutils Version classes are deprecated. Use packaging.version instead.\n",
      "  return LooseVersion(v) >= LooseVersion(check)\n",
      "/home/shormi/anaconda3/lib/python3.11/site-packages/notebook/utils.py:280: DeprecationWarning: distutils Version classes are deprecated. Use packaging.version instead.\n",
      "  return LooseVersion(v) >= LooseVersion(check)\n",
      "/home/shormi/anaconda3/lib/python3.11/pkgutil.py:92: NumbaPendingDeprecationWarning: \u001b[1mThe 'pycc' module is pending deprecation. Replacement technology is being developed.\n",
      "\n",
      "Pending Deprecation in Numba 0.57.0. For more information please see: https://numba.readthedocs.io/en/stable/reference/deprecation.html#deprecation-of-the-numba-pycc-module\u001b[0m\n",
      "  __import__(info.name)\n",
      "/home/shormi/anaconda3/lib/python3.11/pkgutil.py:92: UserWarning: The numpy.array_api submodule is still experimental. See NEP 47.\n",
      "  __import__(info.name)\n",
      "/home/shormi/anaconda3/lib/python3.11/site-packages/_distutils_hack/__init__.py:33: UserWarning: Setuptools is replacing distutils.\n",
      "  warnings.warn(\"Setuptools is replacing distutils.\")\n",
      "/home/shormi/anaconda3/lib/python3.11/pkgutil.py:92: DeprecationWarning: pkg_resources is deprecated as an API. See https://setuptools.pypa.io/en/latest/pkg_resources.html\n",
      "  __import__(info.name)\n",
      "/home/shormi/anaconda3/lib/python3.11/site-packages/pip/_vendor/pkg_resources/__init__.py:2871: DeprecationWarning: Deprecated call to `pkg_resources.declare_namespace('mpl_toolkits')`.\n",
      "Implementing implicit namespace packages (as specified in PEP 420) is preferred to `pkg_resources.declare_namespace`. See https://setuptools.pypa.io/en/latest/references/keywords.html#keyword-namespace-packages\n",
      "  declare_namespace(pkg)\n",
      "/home/shormi/anaconda3/lib/python3.11/site-packages/pip/_vendor/pkg_resources/__init__.py:2871: DeprecationWarning: Deprecated call to `pkg_resources.declare_namespace('ruamel')`.\n",
      "Implementing implicit namespace packages (as specified in PEP 420) is preferred to `pkg_resources.declare_namespace`. See https://setuptools.pypa.io/en/latest/references/keywords.html#keyword-namespace-packages\n",
      "  declare_namespace(pkg)\n",
      "/home/shormi/anaconda3/lib/python3.11/site-packages/pip/_vendor/pkg_resources/__init__.py:2871: DeprecationWarning: Deprecated call to `pkg_resources.declare_namespace('sphinxcontrib')`.\n",
      "Implementing implicit namespace packages (as specified in PEP 420) is preferred to `pkg_resources.declare_namespace`. See https://setuptools.pypa.io/en/latest/references/keywords.html#keyword-namespace-packages\n",
      "  declare_namespace(pkg)\n",
      "/home/shormi/anaconda3/lib/python3.11/site-packages/pip/_vendor/pkg_resources/__init__.py:2871: DeprecationWarning: Deprecated call to `pkg_resources.declare_namespace('sphinxcontrib')`.\n",
      "Implementing implicit namespace packages (as specified in PEP 420) is preferred to `pkg_resources.declare_namespace`. See https://setuptools.pypa.io/en/latest/references/keywords.html#keyword-namespace-packages\n",
      "  declare_namespace(pkg)\n",
      "/home/shormi/anaconda3/lib/python3.11/site-packages/pip/_vendor/pkg_resources/__init__.py:2871: DeprecationWarning: Deprecated call to `pkg_resources.declare_namespace('sphinxcontrib')`.\n",
      "Implementing implicit namespace packages (as specified in PEP 420) is preferred to `pkg_resources.declare_namespace`. See https://setuptools.pypa.io/en/latest/references/keywords.html#keyword-namespace-packages\n",
      "  declare_namespace(pkg)\n",
      "/home/shormi/anaconda3/lib/python3.11/site-packages/pip/_vendor/pkg_resources/__init__.py:2871: DeprecationWarning: Deprecated call to `pkg_resources.declare_namespace('sphinxcontrib')`.\n",
      "Implementing implicit namespace packages (as specified in PEP 420) is preferred to `pkg_resources.declare_namespace`. See https://setuptools.pypa.io/en/latest/references/keywords.html#keyword-namespace-packages\n",
      "  declare_namespace(pkg)\n",
      "/home/shormi/anaconda3/lib/python3.11/site-packages/pip/_vendor/pkg_resources/__init__.py:2871: DeprecationWarning: Deprecated call to `pkg_resources.declare_namespace('sphinxcontrib')`.\n",
      "Implementing implicit namespace packages (as specified in PEP 420) is preferred to `pkg_resources.declare_namespace`. See https://setuptools.pypa.io/en/latest/references/keywords.html#keyword-namespace-packages\n",
      "  declare_namespace(pkg)\n",
      "/home/shormi/anaconda3/lib/python3.11/site-packages/pip/_vendor/pkg_resources/__init__.py:2871: DeprecationWarning: Deprecated call to `pkg_resources.declare_namespace('sphinxcontrib')`.\n",
      "Implementing implicit namespace packages (as specified in PEP 420) is preferred to `pkg_resources.declare_namespace`. See https://setuptools.pypa.io/en/latest/references/keywords.html#keyword-namespace-packages\n",
      "  declare_namespace(pkg)\n",
      "/home/shormi/anaconda3/lib/python3.11/site-packages/pip/_vendor/pkg_resources/__init__.py:2871: DeprecationWarning: Deprecated call to `pkg_resources.declare_namespace('zope')`.\n",
      "Implementing implicit namespace packages (as specified in PEP 420) is preferred to `pkg_resources.declare_namespace`. See https://setuptools.pypa.io/en/latest/references/keywords.html#keyword-namespace-packages\n",
      "  declare_namespace(pkg)\n",
      "/home/shormi/anaconda3/lib/python3.11/site-packages/pipenv/environment.py:21: DeprecationWarning: pkg_resources is deprecated as an API. See https://setuptools.pypa.io/en/latest/pkg_resources.html\n",
      "  from pipenv.patched.pip._vendor import pkg_resources\n",
      "/home/shormi/anaconda3/lib/python3.11/site-packages/pipenv/patched/pip/_vendor/pkg_resources/__init__.py:2871: DeprecationWarning: Deprecated call to `pkg_resources.declare_namespace('mpl_toolkits')`.\n",
      "Implementing implicit namespace packages (as specified in PEP 420) is preferred to `pkg_resources.declare_namespace`. See https://setuptools.pypa.io/en/latest/references/keywords.html#keyword-namespace-packages\n",
      "  declare_namespace(pkg)\n",
      "/home/shormi/anaconda3/lib/python3.11/site-packages/pipenv/patched/pip/_vendor/pkg_resources/__init__.py:2871: DeprecationWarning: Deprecated call to `pkg_resources.declare_namespace('ruamel')`.\n",
      "Implementing implicit namespace packages (as specified in PEP 420) is preferred to `pkg_resources.declare_namespace`. See https://setuptools.pypa.io/en/latest/references/keywords.html#keyword-namespace-packages\n",
      "  declare_namespace(pkg)\n",
      "/home/shormi/anaconda3/lib/python3.11/site-packages/pipenv/patched/pip/_vendor/pkg_resources/__init__.py:2871: DeprecationWarning: Deprecated call to `pkg_resources.declare_namespace('sphinxcontrib')`.\n",
      "Implementing implicit namespace packages (as specified in PEP 420) is preferred to `pkg_resources.declare_namespace`. See https://setuptools.pypa.io/en/latest/references/keywords.html#keyword-namespace-packages\n",
      "  declare_namespace(pkg)\n",
      "/home/shormi/anaconda3/lib/python3.11/site-packages/pipenv/patched/pip/_vendor/pkg_resources/__init__.py:2871: DeprecationWarning: Deprecated call to `pkg_resources.declare_namespace('sphinxcontrib')`.\n",
      "Implementing implicit namespace packages (as specified in PEP 420) is preferred to `pkg_resources.declare_namespace`. See https://setuptools.pypa.io/en/latest/references/keywords.html#keyword-namespace-packages\n",
      "  declare_namespace(pkg)\n",
      "/home/shormi/anaconda3/lib/python3.11/site-packages/pipenv/patched/pip/_vendor/pkg_resources/__init__.py:2871: DeprecationWarning: Deprecated call to `pkg_resources.declare_namespace('sphinxcontrib')`.\n",
      "Implementing implicit namespace packages (as specified in PEP 420) is preferred to `pkg_resources.declare_namespace`. See https://setuptools.pypa.io/en/latest/references/keywords.html#keyword-namespace-packages\n",
      "  declare_namespace(pkg)\n",
      "/home/shormi/anaconda3/lib/python3.11/site-packages/pipenv/patched/pip/_vendor/pkg_resources/__init__.py:2871: DeprecationWarning: Deprecated call to `pkg_resources.declare_namespace('sphinxcontrib')`.\n",
      "Implementing implicit namespace packages (as specified in PEP 420) is preferred to `pkg_resources.declare_namespace`. See https://setuptools.pypa.io/en/latest/references/keywords.html#keyword-namespace-packages\n",
      "  declare_namespace(pkg)\n",
      "/home/shormi/anaconda3/lib/python3.11/site-packages/pipenv/patched/pip/_vendor/pkg_resources/__init__.py:2871: DeprecationWarning: Deprecated call to `pkg_resources.declare_namespace('sphinxcontrib')`.\n",
      "Implementing implicit namespace packages (as specified in PEP 420) is preferred to `pkg_resources.declare_namespace`. See https://setuptools.pypa.io/en/latest/references/keywords.html#keyword-namespace-packages\n",
      "  declare_namespace(pkg)\n",
      "/home/shormi/anaconda3/lib/python3.11/site-packages/pipenv/patched/pip/_vendor/pkg_resources/__init__.py:2871: DeprecationWarning: Deprecated call to `pkg_resources.declare_namespace('sphinxcontrib')`.\n",
      "Implementing implicit namespace packages (as specified in PEP 420) is preferred to `pkg_resources.declare_namespace`. See https://setuptools.pypa.io/en/latest/references/keywords.html#keyword-namespace-packages\n",
      "  declare_namespace(pkg)\n",
      "/home/shormi/anaconda3/lib/python3.11/site-packages/pipenv/patched/pip/_vendor/pkg_resources/__init__.py:2871: DeprecationWarning: Deprecated call to `pkg_resources.declare_namespace('zope')`.\n",
      "Implementing implicit namespace packages (as specified in PEP 420) is preferred to `pkg_resources.declare_namespace`. See https://setuptools.pypa.io/en/latest/references/keywords.html#keyword-namespace-packages\n",
      "  declare_namespace(pkg)\n"
     ]
    },
    {
     "data": {
      "text/html": [
       "<pre style=\"white-space:pre;overflow-x:auto;line-height:normal;font-family:Menlo,'DejaVu Sans Mono',consolas,'Courier New',monospace\"></pre>\n"
      ],
      "text/plain": []
     },
     "metadata": {},
     "output_type": "display_data"
    },
    {
     "name": "stderr",
     "output_type": "stream",
     "text": [
      "/home/shormi/anaconda3/lib/python3.11/site-packages/plotly/matplotlylib/mplexporter/renderers/base.py:4: DeprecationWarning: The distutils package is deprecated and slated for removal in Python 3.12. Use setuptools or check PEP 632 for potential alternatives\n",
      "  from distutils.version import LooseVersion\n",
      "/home/shormi/anaconda3/lib/python3.11/distutils/command/build_ext.py:13: DeprecationWarning:\n",
      "\n",
      "The distutils.sysconfig module is deprecated, use sysconfig instead\n",
      "\n",
      "/home/shormi/anaconda3/lib/python3.11/site-packages/sphinx/util/images.py:4: DeprecationWarning:\n",
      "\n",
      "'imghdr' is deprecated and slated for removal in Python 3.13\n",
      "\n",
      "/home/shormi/anaconda3/lib/python3.11/site-packages/spyder/config/base.py:423: DeprecationWarning:\n",
      "\n",
      "Use setlocale(), getencoding() and getlocale() instead\n",
      "\n",
      "INFO:qdarkstyle:QSS file sucessfuly loaded.\n",
      "INFO:qdarkstyle:Found version patches to be applied.\n",
      "INFO:qdarkstyle:Found application patches to be applied.\n",
      "WARNING:qdarkstyle:No QCoreApplication instance found. Application patches not applied. You have to call load_stylesheet function after instantiation of QApplication to take effect. \n",
      "/home/shormi/anaconda3/lib/python3.11/site-packages/spyder/widgets/mixins.py:18: DeprecationWarning:\n",
      "\n",
      "module 'sre_constants' is deprecated\n",
      "\n",
      "None of PyTorch, TensorFlow >= 2.0, or Flax have been found. Models won't be available and only tokenizers, configuration and file/data utilities can be used.\n"
     ]
    },
    {
     "name": "stdout",
     "output_type": "stream",
     "text": [
      "IPython             click               keyring             requests_file\n",
      "OpenSSL             cloudpickle         keyword             requests_toolbelt\n",
      "PIL                 clyent              kiwisolver          resource\n",
      "PyQt5               cmath               lazy_loader         responses\n",
      "TBB                 cmd                 lazy_object_proxy   rest_framework\n",
      "__future__          code                lib2to3             rfc3339_validator\n",
      "__hello__           codecs              libarchive          rfc3986_validator\n",
      "__phello__          codeop              libfuturize         rlcompleter\n",
      "_abc                collections         libmambapy          rope\n",
      "_aix_support        colorama            libpasteurize       rtree\n",
      "_argon2_cffi_bindings colorcet            lief                ruamel_yaml\n",
      "_ast                colorsys            linecache           runpy\n",
      "_asyncio            comm                linkify_it          s3fs\n",
      "_bisect             compileall          llvmlite            safetensors\n",
      "_black_version      concurrent          lmdb                sched\n",
      "_blake2             conda               locale              scipy\n",
      "_bootsubprocess     conda_build         locket              scrapy\n",
      "_bz2                conda_content_trust logging             seaborn\n",
      "_cffi_backend       conda_env           lxml                secrets\n",
      "_codecs             conda_index         lz4                 secretstorage\n",
      "_codecs_cn          conda_libmamba_solver lzma                select\n",
      "_codecs_hk          conda_pack          mailbox             selectors\n",
      "_codecs_iso2022     conda_package_handling mailcap             send2trash\n",
      "_codecs_jp          conda_package_streaming markdown            service_identity\n",
      "_codecs_kr          conda_token         markdown_it         setuptools\n",
      "_codecs_tw          conda_verify        markupsafe          shelve\n",
      "_collections        configparser        marshal             shlex\n",
      "_collections_abc    constantly          math                shutil\n",
      "_compat_pickle      contextlib          matplotlib          signal\n",
      "_compression        contextvars         matplotlib_inline   sipbuild\n",
      "_contextvars        contourpy           mccabe              site\n",
      "_crypt              cookiecutter        mdit_py_plugins     six\n",
      "_csv                copy                mdurl               skimage\n",
      "_ctypes             copyreg             mediapipe           sklearn\n",
      "_ctypes_test        cpuinfo             mimetypes           sklearnex\n",
      "_curses             crypt               mistune             slugify\n",
      "_curses_panel       cryptography        mkl                 smart_open\n",
      "_datetime           cssselect           mkl_fft             smtpd\n",
      "_decimal            csv                 ml_dtypes           smtplib\n",
      "_distutils_hack     ctypes              mlxtend             snappy\n",
      "_elementtree        curl                mmap                sndhdr\n",
      "_functools          curses              modulefinder        sniffio\n",
      "_hashlib            cv2                 more_itertools      snowballstemmer\n",
      "_heapq              cycler              moviepy             socket\n",
      "_imp                cytoolz             mpmath              socketserver\n",
      "_io                 daal4py             msgpack             socks\n",
      "_json               dask                multidict           sockshandler\n",
      "_locale             dataclasses         multipledispatch    sortedcontainers\n",
      "_lsprof             datasets            multiprocess        sounddevice\n",
      "_lzma               datashader          multiprocessing     soupsieve\n",
      "_markupbase         datashape           munkres             sphinx\n",
      "_md5                datetime            mypy_extensions     spwd\n",
      "_multibytecodec     dateutil            mysql               spyder\n",
      "_multiprocess       dbm                 navigator_updater   spyder_kernels\n",
      "_multiprocessing    debugpy             nbclassic           sqlalchemy\n",
      "_mysql_connector    decimal             nbclient            sqlite3\n",
      "_opcode             decorator           nbconvert           sqlparse\n",
      "_operator           defusedxml          nbformat            sre_compile\n",
      "_osx_support        diff_match_patch    nest_asyncio        sre_constants\n",
      "_pickle             difflib             netrc               sre_parse\n",
      "_plotly_future_     dill                networkx            ssl\n",
      "_plotly_utils       dis                 nis                 stack_data\n",
      "_posixshmem         distlib             nltk                stat\n",
      "_posixsubprocess    distributed         nntplib             statistics\n",
      "_py_abc             distutils           notebook            statsmodels\n",
      "_pydecimal          django              notebook_shim       string\n",
      "_pyio               docstring_to_markdown ntpath              stringprep\n",
      "_pyrsistent_version doctest             nturl2path          struct\n",
      "_pytest             docutils            numba               subprocess\n",
      "_queue              dotenv              numbergen           sunau\n",
      "_random             email               numbers             sympy\n",
      "_sha1               encodings           numexpr             symtable\n",
      "_sha256             ensurepip           numpy               sys\n",
      "_sha3               entrypoints         numpydoc            sysconfig\n",
      "_sha512             enum                onedal              syslog\n",
      "_signal             erfa                opcode              tables\n",
      "_sitebuiltins       errno               openpyxl            tabnanny\n",
      "_socket             et_xmlfile          operator            tabulate\n",
      "_sounddevice        executing           opt_einsum          tarfile\n",
      "_sqlite3            fastjsonschema      optparse            tbb\n",
      "_sre                faulthandler        os                  tblib\n",
      "_ssl                fcntl               ossaudiodev         telnetlib\n",
      "_stat               filecmp             packaging           tempfile\n",
      "_statistics         fileinput           pandas              tenacity\n",
      "_string             filelock            pandocfilters       terminado\n",
      "_strptime           flake8              panel               termios\n",
      "_struct             flask               param               test\n",
      "_symtable           flatbuffers         parsel              test_pycosat\n",
      "_sysconfigdata__linux_x86_64-linux-gnu fnmatch             parso               text_unidecode\n",
      "_sysconfigdata_x86_64_conda_cos6_linux_gnu fontTools           partd               textdistance\n",
      "_sysconfigdata_x86_64_conda_linux_gnu fractions           past                textwrap\n",
      "_testbuffer         frozenlist          pathlib             this\n",
      "_testcapi           fsspec              pathspec            threading\n",
      "_testclinic         ftplib              patsy               threadpoolctl\n",
      "_testimportmultiple functools           pdb                 three_merge\n",
      "_testinternalcapi   future              pep8                tifffile\n",
      "_testmultiphase     gc                  pexpect             time\n",
      "_thread             genericpath         pickle              timeit\n",
      "_threading_local    gensim              pickleshare         tinycss2\n",
      "_tkinter            getopt              pickletools         tkinter\n",
      "_tokenize           getpass             pip                 tldextract\n",
      "_tracemalloc        gettext             pipenv              tlz\n",
      "_typing             glob                pipes               token\n",
      "_uuid               glob2               pkce                tokenize\n",
      "_warnings           gmpy2               pkg_resources       tokenizers\n",
      "_weakref            graphlib            pkginfo             toml\n",
      "_weakrefset         greenlet            pkgutil             tomlkit\n",
      "_xxsubinterpreters  grp                 platform            tomllib\n",
      "_xxtestfuzz         gzip                platformdirs        toolz\n",
      "_yaml               h5py                plistlib            tornado\n",
      "_zoneinfo           hashlib             plotly              tqdm\n",
      "abc                 heapdict            pluggy              trace\n",
      "absl                heapq               ply                 traceback\n",
      "aifc                hmac                poplib              tracemalloc\n",
      "aiobotocore         holoviews           posix               traitlets\n",
      "aiofiles            html                posixpath           transformers\n",
      "aiohttp             http                poyo                tty\n",
      "aioitertools        huggingface_hub     pprint              turtle\n",
      "aiosignal           hvplot              profile             turtledemo\n",
      "aiosqlite           hyperlink           proglog             twisted\n",
      "alabaster           idlelib             prometheus_client   types\n",
      "anaconda_anon_usage idna                prompt_toolkit      typing\n",
      "anaconda_catalogs   imagecodecs         protego             typing_extensions\n",
      "anaconda_cloud_auth imageio             pstats              tzdata\n",
      "anaconda_navigator  imageio_ffmpeg      psutil              uc_micro\n",
      "anaconda_project    imagesize           pty                 ujson\n",
      "antigravity         imaplib             ptyprocess          unicodedata\n",
      "anyio               imblearn            pure_eval           unidecode\n",
      "appdirs             imghdr              pvectorc            unittest\n",
      "argon2              imp                 pwd                 urllib\n",
      "argparse            importlib           py                  urllib3\n",
      "array               importlib_metadata  py_compile          uu\n",
      "arrow               incremental         pyarrow             uuid\n",
      "asgiref             inflection          pyasn1              venv\n",
      "ast                 iniconfig           pyasn1_modules      virtualenv\n",
      "astroid             inspect             pyclbr              w3lib\n",
      "astropy             intake              pycodestyle         warnings\n",
      "asttokens           intervaltree        pycosat             watchdog\n",
      "async_timeout       io                  pycparser           wave\n",
      "asynchat            ipaddress           pyct                wcwidth\n",
      "asyncio             ipykernel           pycurl              weakref\n",
      "asyncore            ipykernel_launcher  pydantic            webbrowser\n",
      "atexit              ipython_genutils    pydispatch          webencodings\n",
      "atomicwrites        ipywidgets          pydoc               websocket\n",
      "attr                isort               pydoc_data          werkzeug\n",
      "attrs               isympy              pydocstyle          whatthepatch\n",
      "audioop             itemadapter         pyexpat             wheel\n",
      "automat             itemloaders         pyflakes            widgetsnbextension\n",
      "autopep8            itertools           pygments            wrapt\n",
      "babel               itsdangerous        pylab               wsgiref\n",
      "backcall            jax                 pylint              wurlitzer\n",
      "backports           jaxlib              pylint_venv         xarray\n",
      "base64              jedi                pyls_spyder         xdg\n",
      "bcrypt              jeepney             pylsp               xdrlib\n",
      "bdb                 jellyfish           pylsp_black         xml\n",
      "binaryornot         jinja2              pylsp_jsonrpc       xmlrpc\n",
      "binascii            jinja2_time         pyodbc              xxhash\n",
      "binstar_client      jmespath            pyparsing           xxlimited\n",
      "bisect              joblib              pyrsistent          xxlimited_35\n",
      "black               json                pytest              xxsubtype\n",
      "blackd              json5               pythonjsonlogger    xyzservices\n",
      "bleach              jsonpatch           pytoolconfig        y_py\n",
      "blib2to3            jsonpointer         pytz                yaml\n",
      "bokeh               jsonschema          pyviz_comms         yapf\n",
      "boltons             jupyter             pywt                yapftests\n",
      "botocore            jupyter_client      qdarkstyle          yarl\n",
      "bottleneck          jupyter_console     qstylizer           ypy_websocket\n",
      "brotli              jupyter_core        qtawesome           zict\n",
      "bs4                 jupyter_events      qtconsole           zipapp\n",
      "builtins            jupyter_server      qtpy                zipfile\n",
      "bz2                 jupyter_server_fileid queue               zipimport\n",
      "cProfile            jupyter_server_ydoc queuelib            zipp\n",
      "calendar            jupyter_ydoc        quopri              zlib\n",
      "certifi             jupyterlab          random              zmq\n",
      "cffi                jupyterlab_plotly   re                  zoneinfo\n",
      "cgi                 jupyterlab_pygments readline            zope\n",
      "cgitb               jupyterlab_server   regex               zstandard\n",
      "chardet             jupyterlab_widgets  repo_cli            \n",
      "charset_normalizer  jwt                 reprlib             \n",
      "chunk               kaleido             requests            \n",
      "\n",
      "Enter any module name to get more help.  Or, type \"modules spam\" to search\n",
      "for modules whose name or summary contain the string \"spam\".\n",
      "\n"
     ]
    }
   ],
   "source": [
    "help('modules')"
   ]
  },
  {
   "cell_type": "code",
   "execution_count": 2,
   "id": "0d312e18",
   "metadata": {},
   "outputs": [],
   "source": [
    "# include <stdio.h>    this is the mathematics module for c/c++ but in python we simply use,\n",
    "import math"
   ]
  },
  {
   "cell_type": "code",
   "execution_count": 3,
   "id": "56a413e4",
   "metadata": {},
   "outputs": [
    {
     "data": {
      "text/plain": [
       "3.141592653589793"
      ]
     },
     "execution_count": 3,
     "metadata": {},
     "output_type": "execute_result"
    }
   ],
   "source": [
    "math.pi"
   ]
  },
  {
   "cell_type": "code",
   "execution_count": 4,
   "id": "963fbc5d",
   "metadata": {},
   "outputs": [
    {
     "data": {
      "text/plain": [
       "2.718281828459045"
      ]
     },
     "execution_count": 4,
     "metadata": {},
     "output_type": "execute_result"
    }
   ],
   "source": [
    "math.e"
   ]
  },
  {
   "cell_type": "code",
   "execution_count": 5,
   "id": "f859ba17",
   "metadata": {},
   "outputs": [
    {
     "data": {
      "text/plain": [
       "120"
      ]
     },
     "execution_count": 5,
     "metadata": {},
     "output_type": "execute_result"
    }
   ],
   "source": [
    "math.factorial(5)"
   ]
  },
  {
   "cell_type": "code",
   "execution_count": 6,
   "id": "a28212ca",
   "metadata": {},
   "outputs": [
    {
     "data": {
      "text/plain": [
       "7"
      ]
     },
     "execution_count": 6,
     "metadata": {},
     "output_type": "execute_result"
    }
   ],
   "source": [
    "math.ceil(6.3)"
   ]
  },
  {
   "cell_type": "code",
   "execution_count": 7,
   "id": "306aadae",
   "metadata": {},
   "outputs": [
    {
     "data": {
      "text/plain": [
       "6"
      ]
     },
     "execution_count": 7,
     "metadata": {},
     "output_type": "execute_result"
    }
   ],
   "source": [
    "math.floor(6.9)"
   ]
  },
  {
   "cell_type": "code",
   "execution_count": 8,
   "id": "443746da",
   "metadata": {},
   "outputs": [
    {
     "data": {
      "text/plain": [
       "10.0"
      ]
     },
     "execution_count": 8,
     "metadata": {},
     "output_type": "execute_result"
    }
   ],
   "source": [
    "math.sqrt(100)"
   ]
  },
  {
   "cell_type": "code",
   "execution_count": 9,
   "id": "ea6dcbf0",
   "metadata": {},
   "outputs": [],
   "source": [
    "import random"
   ]
  },
  {
   "cell_type": "code",
   "execution_count": 10,
   "id": "12e2012d",
   "metadata": {},
   "outputs": [
    {
     "data": {
      "text/plain": [
       "94"
      ]
     },
     "execution_count": 10,
     "metadata": {},
     "output_type": "execute_result"
    }
   ],
   "source": [
    "random.randint(1,100)"
   ]
  },
  {
   "cell_type": "code",
   "execution_count": 11,
   "id": "f12dfd5f",
   "metadata": {},
   "outputs": [
    {
     "data": {
      "text/plain": [
       "[3, 4, 1, 2, 5]"
      ]
     },
     "execution_count": 11,
     "metadata": {},
     "output_type": "execute_result"
    }
   ],
   "source": [
    "a = [1,2,3,4,5]\n",
    "random.shuffle(a)\n",
    "a"
   ]
  },
  {
   "cell_type": "code",
   "execution_count": 12,
   "id": "2e4e4338",
   "metadata": {},
   "outputs": [],
   "source": [
    "import time"
   ]
  },
  {
   "cell_type": "code",
   "execution_count": 13,
   "id": "9cea3770",
   "metadata": {},
   "outputs": [
    {
     "data": {
      "text/plain": [
       "1725263509.831518"
      ]
     },
     "execution_count": 13,
     "metadata": {},
     "output_type": "execute_result"
    }
   ],
   "source": [
    "time.time()"
   ]
  },
  {
   "cell_type": "code",
   "execution_count": 14,
   "id": "dff5536d",
   "metadata": {},
   "outputs": [
    {
     "data": {
      "text/plain": [
       "'Mon Sep  2 13:51:50 2024'"
      ]
     },
     "execution_count": 14,
     "metadata": {},
     "output_type": "execute_result"
    }
   ],
   "source": [
    "time.ctime()"
   ]
  },
  {
   "cell_type": "code",
   "execution_count": 15,
   "id": "81795037",
   "metadata": {},
   "outputs": [
    {
     "name": "stdout",
     "output_type": "stream",
     "text": [
      "Hello\n",
      "World\n"
     ]
    }
   ],
   "source": [
    "print(\"Hello\")\n",
    "time.sleep(1)\n",
    "print(\"World\")"
   ]
  },
  {
   "cell_type": "code",
   "execution_count": 16,
   "id": "4a1a56de",
   "metadata": {},
   "outputs": [],
   "source": [
    "import os"
   ]
  },
  {
   "cell_type": "code",
   "execution_count": 17,
   "id": "43482e5b",
   "metadata": {},
   "outputs": [
    {
     "data": {
      "text/plain": [
       "'/home/shormi/Documents/Code/code/python_fundamental'"
      ]
     },
     "execution_count": 17,
     "metadata": {},
     "output_type": "execute_result"
    }
   ],
   "source": [
    "os.getcwd()"
   ]
  },
  {
   "cell_type": "code",
   "execution_count": 18,
   "id": "7d30be7e",
   "metadata": {},
   "outputs": [
    {
     "data": {
      "text/plain": [
       "['04. keywords-and-identifiers.ipynb',\n",
       " '03. variables-in-python.ipynb',\n",
       " '06. literals.ipynb',\n",
       " '07. operators.ipynb',\n",
       " '13. nested-loops.ipynb',\n",
       " '02. data-types.ipynb',\n",
       " '14. break-continue-and-pass.ipynb',\n",
       " '.ipynb_checkpoints',\n",
       " '10. while-loop.ipynb',\n",
       " '15. built-in-functions.ipynb',\n",
       " '11. guessing-game.ipynb',\n",
       " '09. Indentation.ipynb',\n",
       " '01. Print-function.ipynb',\n",
       " '12. for-loop.ipynb',\n",
       " '05. taking-user-input-and-type-conversion.ipynb',\n",
       " '16. built-in-modules.ipynb',\n",
       " '08. If-else Statements.ipynb']"
      ]
     },
     "execution_count": 18,
     "metadata": {},
     "output_type": "execute_result"
    }
   ],
   "source": [
    "os.listdir()"
   ]
  },
  {
   "cell_type": "code",
   "execution_count": null,
   "id": "c206556f",
   "metadata": {},
   "outputs": [],
   "source": []
  }
 ],
 "metadata": {
  "kernelspec": {
   "display_name": "Python 3 (ipykernel)",
   "language": "python",
   "name": "python3"
  },
  "language_info": {
   "codemirror_mode": {
    "name": "ipython",
    "version": 3
   },
   "file_extension": ".py",
   "mimetype": "text/x-python",
   "name": "python",
   "nbconvert_exporter": "python",
   "pygments_lexer": "ipython3",
   "version": "3.11.5"
  }
 },
 "nbformat": 4,
 "nbformat_minor": 5
}
