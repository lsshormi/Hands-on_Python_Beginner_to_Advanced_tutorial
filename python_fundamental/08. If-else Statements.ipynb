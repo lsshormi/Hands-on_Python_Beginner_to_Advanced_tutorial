{
 "cells": [
  {
   "cell_type": "markdown",
   "id": "57cffc40",
   "metadata": {},
   "source": [
    "# if / esle statements \n",
    "When using 'if / else' statements, our program typically executes line by line from top to bottom. However, there are times when our program needs to make a decision and follow different paths based on certain conditions. This is called branching. We use 'if / else' statements to handle these situations. For instance, when a user tries to log into their account, there are two possible outcomes. First possibility, If the user enters the correct email and password, the program will execute one set of codes and let the user enter his account. Second possibility, If the user enters incorrect credentials, the program will display a different interface and execute a different set of code, such as showing an error page."
   ]
  },
  {
   "cell_type": "code",
   "execution_count": 1,
   "id": "ca97430e",
   "metadata": {},
   "outputs": [
    {
     "name": "stdout",
     "output_type": "stream",
     "text": [
      "Enter your email: l.s.shormi@gmail.com\n",
      "Enter your passowrd: 1234\n",
      "Welcome\n"
     ]
    }
   ],
   "source": [
    "# correct email- l.s.shormi@gmail.com\n",
    "# password - 1234\n",
    "\n",
    "email = input(\"Enter your email: \")\n",
    "password = input(\"Enter your passowrd: \")\n",
    "\n",
    "if email == \"l.s.shormi@gmail.com\" and password == \"1234\":\n",
    "    print(\"Welcome\")\n",
    "else:\n",
    "    print(\"Password Incorrect\")"
   ]
  },
  {
   "cell_type": "code",
   "execution_count": 2,
   "id": "bf747422",
   "metadata": {},
   "outputs": [
    {
     "name": "stdout",
     "output_type": "stream",
     "text": [
      "Enter your email: l.s.shormi@gmail.com\n",
      "Enter your passowrd: 1245\n",
      "Password Incorrect\n",
      "Enter your password again: 1234\n",
      "Finally correct\n"
     ]
    }
   ],
   "source": [
    "#there could be more than 2 possibilities. and here comes out 'else if or elif concept'\n",
    "\n",
    "email = input(\"Enter your email: \")\n",
    "password = input(\"Enter your passowrd: \")\n",
    "\n",
    "if email == \"l.s.shormi@gmail.com\" and password == \"1234\":\n",
    "    print(\"Welcome\")\n",
    "elif email == \"l.s.shormi@gmail.com\" and password != \"1234\":\n",
    "    print(\"Password Incorrect\")\n",
    "    password = input(\"Enter your password again: \")\n",
    "    if password == \"1234\":     \n",
    "        print(\"Finally correct\")\n",
    "    else:\n",
    "        print(\"Still incorrect\")\n",
    "else:\n",
    "    print(\"Password Incorrect\")"
   ]
  },
  {
   "cell_type": "code",
   "execution_count": 3,
   "id": "0980cd69",
   "metadata": {},
   "outputs": [
    {
     "name": "stdout",
     "output_type": "stream",
     "text": [
      "Enter your email: l.s.shormi@gmail.com\n",
      "Enter your passowrd: 1478\n",
      "Password Incorrect\n",
      "Enter your password again: 4563\n",
      "Still incorrect\n"
     ]
    }
   ],
   "source": [
    "# You can also create a logic to identify the correct email address by detecting '@'\n",
    "# Here we also learn and apply 'nested if / else consept' \n",
    "\n",
    "email = input(\"Enter your email: \")\n",
    "if '@' in email:\n",
    "    password = input(\"Enter your passowrd: \")\n",
    "\n",
    "    if email == \"l.s.shormi@gmail.com\" and password == \"1234\":\n",
    "        print(\"Welcome\")\n",
    "    elif email == \"l.s.shormi@gmail.com\" and password != \"1234\":\n",
    "        print(\"Password Incorrect\")\n",
    "        password = input(\"Enter your password again: \")\n",
    "        if password == \"1234\":\n",
    "            print(\"Finally correct\")\n",
    "        else:\n",
    "            print(\"Still incorrect\")\n",
    "    else:\n",
    "        print(\"Incorrect credentials\")\n",
    "else:\n",
    "    print(\"Email is incorrect\")"
   ]
  },
  {
   "cell_type": "markdown",
   "id": "b4390181",
   "metadata": {},
   "source": [
    "you can do more practice on \n",
    "1. https://www.w3schools.com/python/python_conditions.asp\n",
    "2. https://www.programiz.com/python-programming/if-elif-else "
   ]
  },
  {
   "cell_type": "code",
   "execution_count": null,
   "id": "6abe02c6",
   "metadata": {},
   "outputs": [],
   "source": []
  }
 ],
 "metadata": {
  "kernelspec": {
   "display_name": "Python 3 (ipykernel)",
   "language": "python",
   "name": "python3"
  },
  "language_info": {
   "codemirror_mode": {
    "name": "ipython",
    "version": 3
   },
   "file_extension": ".py",
   "mimetype": "text/x-python",
   "name": "python",
   "nbconvert_exporter": "python",
   "pygments_lexer": "ipython3",
   "version": "3.11.5"
  }
 },
 "nbformat": 4,
 "nbformat_minor": 5
}
