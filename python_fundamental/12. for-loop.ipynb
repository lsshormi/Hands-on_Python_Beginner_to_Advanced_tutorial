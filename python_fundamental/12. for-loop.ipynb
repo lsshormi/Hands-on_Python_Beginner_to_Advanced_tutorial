{
 "cells": [
  {
   "cell_type": "code",
   "execution_count": null,
   "id": "c34b1068",
   "metadata": {},
   "outputs": [],
   "source": [
    "# this is the general structure of for loop in different languages\n",
    "for(i=0;i<10;i++){\n",
    "    #code\n",
    "}"
   ]
  },
  {
   "cell_type": "markdown",
   "id": "5b32ab1b",
   "metadata": {},
   "source": [
    "# Before learning 'for loop', we need to understand the range function and sequence. \n",
    "Why is it important to know range function and sequence before learning 'for loop', because 'for loop' either iterates over sequence or else iterates over range function."
   ]
  },
  {
   "cell_type": "markdown",
   "id": "b56a5bab",
   "metadata": {},
   "source": [
    "## Range function\n",
    "The range function in Python is a built-in function that generates a sequence of numbers starting from 0 by default, up to a specified number. It's often used in for loops to iterate over a sequence of numbers. The general syntax is range(end), where end is the terminating value of the sequence. For example, range(5) will generate the sequence 0, 1, 2, 3, 4. You can also specify a start value and a step value using range(start, end, step)."
   ]
  },
  {
   "cell_type": "code",
   "execution_count": 1,
   "id": "134ddc4b",
   "metadata": {},
   "outputs": [
    {
     "data": {
      "text/plain": [
       "range(1, 11)"
      ]
     },
     "execution_count": 1,
     "metadata": {},
     "output_type": "execute_result"
    }
   ],
   "source": [
    "range(1,11)"
   ]
  },
  {
   "cell_type": "code",
   "execution_count": 3,
   "id": "e9bce50d",
   "metadata": {},
   "outputs": [
    {
     "data": {
      "text/plain": [
       "[1, 2, 3, 4, 5, 6, 7, 8, 9, 10]"
      ]
     },
     "execution_count": 3,
     "metadata": {},
     "output_type": "execute_result"
    }
   ],
   "source": [
    "# let's convert it into list data type to see output\n",
    "\n",
    "list(range(1,11))    #range(start, end)"
   ]
  },
  {
   "cell_type": "code",
   "execution_count": 5,
   "id": "d7abfdc6",
   "metadata": {},
   "outputs": [
    {
     "data": {
      "text/plain": [
       "[0, 1, 2, 3, 4]"
      ]
     },
     "execution_count": 5,
     "metadata": {},
     "output_type": "execute_result"
    }
   ],
   "source": [
    "#range(end)\n",
    "list(range(5))"
   ]
  },
  {
   "cell_type": "code",
   "execution_count": 6,
   "id": "0c90219f",
   "metadata": {},
   "outputs": [
    {
     "data": {
      "text/plain": [
       "[1, 3, 5, 7, 9]"
      ]
     },
     "execution_count": 6,
     "metadata": {},
     "output_type": "execute_result"
    }
   ],
   "source": [
    "#range(start, end, step)\n",
    "list(range(1,11,2))"
   ]
  },
  {
   "cell_type": "code",
   "execution_count": 9,
   "id": "c262187d",
   "metadata": {},
   "outputs": [
    {
     "data": {
      "text/plain": [
       "[10, 9, 8, 7, 6, 5, 4, 3, 2, 1]"
      ]
     },
     "execution_count": 9,
     "metadata": {},
     "output_type": "execute_result"
    }
   ],
   "source": [
    "# reverse range\n",
    "list(range(10,0,-1))"
   ]
  },
  {
   "cell_type": "markdown",
   "id": "07b308f2",
   "metadata": {},
   "source": [
    "## Sequence\n",
    "In Python, a sequence is a collection of objects, arranged in a particular order. A sequence can be either a list, a tuple, or a string. Sequences are iterable, meaning you can loop over the elements in a sequence one by one."
   ]
  },
  {
   "cell_type": "code",
   "execution_count": 10,
   "id": "973fea3d",
   "metadata": {},
   "outputs": [
    {
     "data": {
      "text/plain": [
       "'Dhaka'"
      ]
     },
     "execution_count": 10,
     "metadata": {},
     "output_type": "execute_result"
    }
   ],
   "source": [
    "# sequence in string\n",
    "\"Dhaka\""
   ]
  },
  {
   "cell_type": "code",
   "execution_count": 11,
   "id": "fa534d1e",
   "metadata": {},
   "outputs": [
    {
     "data": {
      "text/plain": [
       "['Bangladesh', 'Nepal', 'Pakistan']"
      ]
     },
     "execution_count": 11,
     "metadata": {},
     "output_type": "execute_result"
    }
   ],
   "source": [
    "# sequence in list\n",
    "[\"Bangladesh\",\"Nepal\",\"Pakistan\"]"
   ]
  },
  {
   "cell_type": "code",
   "execution_count": 12,
   "id": "c8b6cc9e",
   "metadata": {},
   "outputs": [
    {
     "data": {
      "text/plain": [
       "('Bangladesh', 'Nepal', 'Pakistan')"
      ]
     },
     "execution_count": 12,
     "metadata": {},
     "output_type": "execute_result"
    }
   ],
   "source": [
    "# sequence in tuple\n",
    "(\"Bangladesh\",\"Nepal\",\"Pakistan\")"
   ]
  },
  {
   "cell_type": "code",
   "execution_count": 13,
   "id": "b716dd5e",
   "metadata": {},
   "outputs": [
    {
     "name": "stdout",
     "output_type": "stream",
     "text": [
      "10\n",
      "9\n",
      "8\n",
      "7\n",
      "6\n",
      "5\n",
      "4\n",
      "3\n",
      "2\n",
      "1\n"
     ]
    }
   ],
   "source": [
    "# now let's run for loop with range function \n",
    "for i in range(10,0,-1):\n",
    "    print(i)"
   ]
  },
  {
   "cell_type": "code",
   "execution_count": 14,
   "id": "2fbb92e1",
   "metadata": {},
   "outputs": [
    {
     "name": "stdout",
     "output_type": "stream",
     "text": [
      "D\n",
      "h\n",
      "a\n",
      "k\n",
      "a\n"
     ]
    }
   ],
   "source": [
    "# for loop with string sequence\n",
    "for i in \"Dhaka\":\n",
    "    print(i)"
   ]
  },
  {
   "cell_type": "code",
   "execution_count": 15,
   "id": "6b711b06",
   "metadata": {},
   "outputs": [
    {
     "name": "stdout",
     "output_type": "stream",
     "text": [
      "1\n",
      "2\n",
      "3\n",
      "5\n"
     ]
    }
   ],
   "source": [
    "# for loop with list sequence\n",
    "for i in [1,2,3,5]:\n",
    "    print(i)"
   ]
  },
  {
   "cell_type": "code",
   "execution_count": 16,
   "id": "f6b876d6",
   "metadata": {},
   "outputs": [
    {
     "name": "stdout",
     "output_type": "stream",
     "text": [
      "1\n",
      "2\n",
      "3\n",
      "5\n"
     ]
    }
   ],
   "source": [
    "# for loop with tuple sequence\n",
    "for i in (1,2,3,5):\n",
    "    print(i)"
   ]
  },
  {
   "cell_type": "code",
   "execution_count": 17,
   "id": "b40c6724",
   "metadata": {},
   "outputs": [
    {
     "name": "stdout",
     "output_type": "stream",
     "text": [
      "1\n",
      "2\n",
      "3\n",
      "5\n"
     ]
    }
   ],
   "source": [
    "# for loop with set sequence\n",
    "for i in {1,2,3,5}:\n",
    "    print(i)"
   ]
  },
  {
   "cell_type": "markdown",
   "id": "49aeaffd",
   "metadata": {},
   "source": [
    "# where to use 'for loop' and where to use 'while loop'\n",
    "If you know the number of iterations and the endpoint in advance, use a 'for loop'. If you are unsure about the number of iterations and endpoint, use a 'while loop'."
   ]
  },
  {
   "cell_type": "markdown",
   "id": "abfe5736",
   "metadata": {},
   "source": [
    "To know more about 'for loop', check out these websites and practice:\n",
    "1. https://www.programiz.com/python-programming/for-loop\n",
    "2. https://www.w3schools.com/python/python_for_loops.asp"
   ]
  },
  {
   "cell_type": "code",
   "execution_count": null,
   "id": "6102c679",
   "metadata": {},
   "outputs": [],
   "source": []
  }
 ],
 "metadata": {
  "kernelspec": {
   "display_name": "Python 3 (ipykernel)",
   "language": "python",
   "name": "python3"
  },
  "language_info": {
   "codemirror_mode": {
    "name": "ipython",
    "version": 3
   },
   "file_extension": ".py",
   "mimetype": "text/x-python",
   "name": "python",
   "nbconvert_exporter": "python",
   "pygments_lexer": "ipython3",
   "version": "3.11.5"
  }
 },
 "nbformat": 4,
 "nbformat_minor": 5
}
