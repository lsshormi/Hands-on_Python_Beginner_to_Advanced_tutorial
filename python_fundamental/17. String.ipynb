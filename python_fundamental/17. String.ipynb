{
 "cells": [
  {
   "cell_type": "markdown",
   "id": "c7f4091b",
   "metadata": {},
   "source": [
    "## Strings are sequence of Characters\n",
    "\n",
    "In Python specifically, strings are a sequence of Unicode Characters\n",
    "\n",
    "- Creating Strings\n",
    "- Accessing Strings\n",
    "- Adding Chars to Strings\n",
    "- Editing Strings\n",
    "- Deleting Strings\n",
    "- Operations on Strings\n",
    "- String Functions"
   ]
  },
  {
   "cell_type": "markdown",
   "id": "e4acc027",
   "metadata": {},
   "source": [
    "## Definition of Strings\n",
    "- A string is a sequence of characters. For example, the word \"hello\" is a string made up of the characters 'h', 'e', 'l', 'l', and 'o'.\n",
    "- In Python, strings are defined by enclosing characters in single (') or double (\") quotes.\n",
    "- Strings are a fundamental data type in Python and are widely used for text manipulation.\n",
    "- Understanding how to work with strings is crucial for effective programming in Python."
   ]
  },
  {
   "cell_type": "markdown",
   "id": "f08d6e4e",
   "metadata": {},
   "source": [
    "## Characteristics of Strings\n",
    "- Strings can contain any characters, including letters, numbers, and symbols.\n",
    "- They are immutable, meaning once created, their content cannot be changed."
   ]
  },
  {
   "cell_type": "markdown",
   "id": "a8a00650",
   "metadata": {},
   "source": [
    "## 1. Creating Strings"
   ]
  },
  {
   "cell_type": "markdown",
   "id": "d3cef23b",
   "metadata": {},
   "source": [
    "\n",
    "Strings in Python can be created by enclosing characters in either single quotes (`'`) or double quotes (`\"`). \n",
    "They are immutable, meaning their content cannot be changed after creation.\n",
    "\n",
    "**Examples:**"
   ]
  },
  {
   "cell_type": "code",
   "execution_count": 1,
   "id": "a5b4f645",
   "metadata": {},
   "outputs": [
    {
     "name": "stdout",
     "output_type": "stream",
     "text": [
      "Hello World\n",
      "This is \n",
      "a multiline string.\n"
     ]
    }
   ],
   "source": [
    "\n",
    "# Single and double-quoted strings\n",
    "str1 = 'Hello'\n",
    "str2 = \"World\"\n",
    "\n",
    "# Multiline string\n",
    "multiline_str = '''This is \n",
    "a multiline string.'''\n",
    "\n",
    "print(str1, str2)\n",
    "print(multiline_str)\n",
    "        "
   ]
  },
  {
   "cell_type": "markdown",
   "id": "55fab1de",
   "metadata": {},
   "source": [
    "## 2. Accessing Strings"
   ]
  },
  {
   "cell_type": "markdown",
   "id": "ef6cc6a7",
   "metadata": {},
   "source": [
    "\n",
    "Strings are sequences, so you can access their elements using indices. Python uses zero-based indexing.\n",
    "\n",
    "**Examples:**\n",
    "        "
   ]
  },
  {
   "cell_type": "code",
   "execution_count": 2,
   "id": "cd087173",
   "metadata": {},
   "outputs": [
    {
     "name": "stdout",
     "output_type": "stream",
     "text": [
      "P\n",
      "n\n",
      "tho\n"
     ]
    }
   ],
   "source": [
    "\n",
    "my_string = \"Python\"\n",
    "print(my_string[0])  # First character\n",
    "print(my_string[-1]) # Last character\n",
    "print(my_string[2:5]) # Substring from index 2 to 4\n",
    "        "
   ]
  },
  {
   "cell_type": "markdown",
   "id": "0a19c804",
   "metadata": {},
   "source": [
    "\n",
    "### Key Concepts\n",
    "\n",
    "#### 1. **Indexing**\n",
    "- **Definition**: Indexing allows you to access individual characters in a string using their position.\n",
    "- **Positive Indexing**: Starts from 0 for the first character and increases to the length of the string.\n",
    "  - Example: In the string \"Hello\", the index positions are:\n",
    "    - H: 0\n",
    "    - e: 1\n",
    "    - l: 2\n",
    "    - l: 3\n",
    "    - o: 4\n",
    "- **Negative Indexing**: Starts from -1 for the last character and decreases.\n",
    "  - Example: For \"Hello\":\n",
    "    - o: -1\n",
    "    - l: -2\n",
    "    - l: -3\n",
    "    - e: -4\n",
    "    - H: -5 \n",
    "\n",
    "#### 2. **Slicing**\n",
    "- **Definition**: Slicing allows you to extract a range of characters from a string.\n",
    "- **Syntax**: `string[start:end]`\n",
    "  - `start`: The index where the slice begins (inclusive).\n",
    "  - `end`: The index where the slice ends (exclusive).\n",
    "- **Example**: For the string \"Hello World\":\n",
    "  - To extract \"Hello\": `string[0:5]`\n",
    "  - To extract \"World\": `string[6:11]`\n",
    "- **Slicing with Steps**: You can also specify a step using `string[start:end:step]`.\n",
    "  - Example: `string[::2]` extracts every second character.\n",
    "  \n",
    "\n",
    "####  **Important Notes**\n",
    "- Always remember that the end index in slicing is exclusive, meaning it does not include the character at that position.\n",
    "- When using negative indexing, the counting starts from the end of the string.\n",
    " "
   ]
  },
  {
   "cell_type": "code",
   "execution_count": 3,
   "id": "66b8e45f",
   "metadata": {},
   "outputs": [
    {
     "data": {
      "text/plain": [
       "'World'"
      ]
     },
     "execution_count": 3,
     "metadata": {},
     "output_type": "execute_result"
    }
   ],
   "source": [
    "my_string = \"Hello World\"\n",
    "my_string[-5:]  # Output: \"World\""
   ]
  },
  {
   "cell_type": "code",
   "execution_count": 4,
   "id": "e15d6499",
   "metadata": {},
   "outputs": [
    {
     "name": "stdout",
     "output_type": "stream",
     "text": [
      "dlroW olleH\n"
     ]
    }
   ],
   "source": [
    "print(my_string[::-1])"
   ]
  },
  {
   "cell_type": "code",
   "execution_count": 5,
   "id": "56d6ea87",
   "metadata": {},
   "outputs": [
    {
     "name": "stdout",
     "output_type": "stream",
     "text": [
      "e\n"
     ]
    }
   ],
   "source": [
    "# Get the character at position 1 (remember that the first character has the position 0):\n",
    "a = \"Hello, World!\"\n",
    "print(a[1])"
   ]
  },
  {
   "cell_type": "markdown",
   "id": "20169131",
   "metadata": {},
   "source": [
    "## 3. Adding Chars to Strings"
   ]
  },
  {
   "cell_type": "markdown",
   "id": "454a1963",
   "metadata": {},
   "source": [
    "\n",
    "Since strings are immutable, you cannot modify them directly. However, you can concatenate strings using the `+` operator or use formatted strings.\n",
    "\n",
    "**Examples:**  "
   ]
  },
  {
   "cell_type": "code",
   "execution_count": 6,
   "id": "e5a323bb",
   "metadata": {},
   "outputs": [
    {
     "name": "stdout",
     "output_type": "stream",
     "text": [
      "Hello World\n",
      "Hello, Alice!\n"
     ]
    }
   ],
   "source": [
    "\n",
    "# Concatenation\n",
    "str1 = \"Hello\"\n",
    "str2 = \"World\"\n",
    "result = str1 + \" \" + str2\n",
    "print(result)\n",
    "\n",
    "# Using f-strings\n",
    "name = \"Alice\"\n",
    "greeting = f\"Hello, {name}!\"\n",
    "print(greeting)\n",
    "        "
   ]
  },
  {
   "cell_type": "markdown",
   "id": "bc5519df",
   "metadata": {},
   "source": [
    "## 4. Editing Strings"
   ]
  },
  {
   "cell_type": "markdown",
   "id": "fceb3177",
   "metadata": {},
   "source": [
    "\n",
    "Although strings themselves are immutable, you can create a new string by modifying an existing one using slicing, replacement, or other methods.\n",
    "\n",
    "**Examples:**\n",
    "        "
   ]
  },
  {
   "cell_type": "code",
   "execution_count": 7,
   "id": "96f7a4e9",
   "metadata": {},
   "outputs": [
    {
     "name": "stdout",
     "output_type": "stream",
     "text": [
      "Hello Python\n",
      "HELLO WORLD\n",
      "hello world\n"
     ]
    }
   ],
   "source": [
    "\n",
    "original = \"Hello World\"\n",
    "# Replace a substring\n",
    "modified = original.replace(\"World\", \"Python\")\n",
    "print(modified)\n",
    "\n",
    "# Changing case\n",
    "print(original.upper())  # Convert to uppercase\n",
    "print(original.lower())  # Convert to lowercase\n",
    "        "
   ]
  },
  {
   "cell_type": "markdown",
   "id": "97de49c6",
   "metadata": {},
   "source": [
    "## 5. Deleting Strings"
   ]
  },
  {
   "cell_type": "markdown",
   "id": "5f1cbae4",
   "metadata": {},
   "source": [
    "\n",
    "You cannot delete a part of a string since they are immutable, but you can delete the entire string using the `del` keyword.\n",
    "\n",
    "**Examples:**\n",
    "        "
   ]
  },
  {
   "cell_type": "code",
   "execution_count": 8,
   "id": "1a27da7d",
   "metadata": {},
   "outputs": [
    {
     "name": "stdout",
     "output_type": "stream",
     "text": [
      "Hello Python\n"
     ]
    }
   ],
   "source": [
    "\n",
    "my_string = \"Hello Python\"\n",
    "print(my_string)\n",
    "del my_string  # Deletes the string object\n",
    "# print(my_string)  # This will raise a NameError\n",
    "        "
   ]
  },
  {
   "cell_type": "markdown",
   "id": "642d978e",
   "metadata": {},
   "source": [
    "###  **String Immutability**\n",
    "- In Python, strings are **immutable**, meaning once a string is created, it cannot be changed. You cannot add or modify characters in an existing string.\n",
    "  - Example: If you have a string `s = \"Hello\"`, you cannot change it to `s[0] = \"X\"`; instead, you would create a new string.\n",
    "\n",
    "###  **Editing Strings**\n",
    "- To edit a string, you must create a new string based on the original. For instance, if you want to change the first character:\n",
    "  - Original: `s = \"Hello\"`\n",
    "  - New: `s = \"X\" + s[1:]` results in `s = \"Xello\"`.\n",
    "\n",
    "###  **Deleting Strings**\n",
    "- Deleting a string means you can remove references to it, but the string itself remains in memory until garbage collected.\n",
    "  - Use `del s` to delete the reference to the string.\n",
    "\n",
    "###  **String Methods**\n",
    "- Python provides various built-in methods to manipulate strings:\n",
    "  - **`str.replace(old, new)`**: Replaces occurrences of a substring.\n",
    "    - Example: `\"Hello\".replace(\"H\", \"X\")` results in `\"Xello\"`.\n",
    "  - **`str.upper()`**: Converts all characters to uppercase.\n",
    "  - **`str.lower()`**: Converts all characters to lowercase.\n",
    "\n",
    "###  **String Concatenation**\n",
    "- You can concatenate strings using the `+` operator.\n",
    "  - Example: `\"Hello\" + \" World\"` results in `\"Hello World\"`.\n",
    "\n",
    "## Important Notes\n",
    "- Always remember that strings are **not mutable** in Python. This is crucial for understanding how to work with them effectively.\n",
    "- Use string methods to perform operations rather than trying to modify the string directly.\n",
    "\n",
    "\n",
    "## Summary\n",
    "- Strings in Python are immutable, and you cannot change them directly. Instead, create new strings when modifications are needed. Use string methods for various operations like replacing, uppercasing, and concatenating."
   ]
  },
  {
   "cell_type": "code",
   "execution_count": null,
   "id": "1b89394b",
   "metadata": {},
   "outputs": [],
   "source": []
  }
 ],
 "metadata": {
  "kernelspec": {
   "display_name": "Python 3 (ipykernel)",
   "language": "python",
   "name": "python3"
  },
  "language_info": {
   "codemirror_mode": {
    "name": "ipython",
    "version": 3
   },
   "file_extension": ".py",
   "mimetype": "text/x-python",
   "name": "python",
   "nbconvert_exporter": "python",
   "pygments_lexer": "ipython3",
   "version": "3.11.5"
  }
 },
 "nbformat": 4,
 "nbformat_minor": 5
}
