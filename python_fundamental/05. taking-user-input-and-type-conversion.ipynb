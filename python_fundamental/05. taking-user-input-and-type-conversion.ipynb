{
 "cells": [
  {
   "cell_type": "markdown",
   "id": "d8745295",
   "metadata": {},
   "source": [
    "# Software can be categorized into two main types: \n",
    "1. Static software and\n",
    "2. Dynamic software."
   ]
  },
  {
   "cell_type": "markdown",
   "id": "42419c54",
   "metadata": {},
   "source": [
    "Static software only allows communication with the user but does not allow any interaction with the user. Examples include websites that display information but do not allow user input, such as government websites with notices and calendars where users can only view the date and time.\n",
    "\n",
    "\n",
    "On the other hand, dynamic software allows both communication with the software and interaction with the user. This includes modern applications like YouTube and Google, where users can search for and view results, and engage with content through comments, likes, and shares. Social media platforms like Facebook, Instagram, and WhatsApp also fall into this category, as users can communicate by typing messages. Additionally, food ordering apps enable users to provide their addresses and food preferences, leading to an interactive experience with the software.\n",
    "\n",
    "\n",
    "Today, the majority of the software we use is dynamic, and taking input from the user is crucial for developing dynamic software. This is why high-level programming languages such as C/C++, Java, Python, and PHP include built-in functions for taking user input, as it is essential for creating dynamic software."
   ]
  },
  {
   "cell_type": "code",
   "execution_count": 1,
   "id": "5f48f4ed",
   "metadata": {},
   "outputs": [
    {
     "name": "stdout",
     "output_type": "stream",
     "text": [
      "What's your nameShormi\n"
     ]
    },
    {
     "data": {
      "text/plain": [
       "'Shormi'"
      ]
     },
     "execution_count": 1,
     "metadata": {},
     "output_type": "execute_result"
    }
   ],
   "source": [
    "input(\"What's your name\")"
   ]
  },
  {
   "cell_type": "code",
   "execution_count": 2,
   "id": "ea8f739e",
   "metadata": {},
   "outputs": [
    {
     "name": "stdout",
     "output_type": "stream",
     "text": [
      "Enter the first number4\n",
      "Enter the second number5\n"
     ]
    }
   ],
   "source": [
    "first_num = input(\"Enter the first number\")\n",
    "second_num = input(\"Enter the second number\")"
   ]
  },
  {
   "cell_type": "code",
   "execution_count": 3,
   "id": "e93c62c3",
   "metadata": {},
   "outputs": [
    {
     "name": "stdout",
     "output_type": "stream",
     "text": [
      "4\n",
      "5\n"
     ]
    }
   ],
   "source": [
    "print(first_num)\n",
    "print(second_num)"
   ]
  },
  {
   "cell_type": "code",
   "execution_count": 4,
   "id": "154dec2d",
   "metadata": {},
   "outputs": [
    {
     "name": "stdout",
     "output_type": "stream",
     "text": [
      "45\n"
     ]
    }
   ],
   "source": [
    "result = first_num + second_num\n",
    "print(result) # it's adding in a wrong way, right?"
   ]
  },
  {
   "cell_type": "markdown",
   "id": "09b5caf7",
   "metadata": {},
   "source": [
    "### Python initially stores any input as a string because it's a universal format; any data type can be stored in this format."
   ]
  },
  {
   "cell_type": "code",
   "execution_count": 5,
   "id": "561a4fe2",
   "metadata": {},
   "outputs": [],
   "source": [
    "# to check the data type we can use type function"
   ]
  },
  {
   "cell_type": "code",
   "execution_count": 6,
   "id": "a7d92ad7",
   "metadata": {},
   "outputs": [
    {
     "data": {
      "text/plain": [
       "str"
      ]
     },
     "execution_count": 6,
     "metadata": {},
     "output_type": "execute_result"
    }
   ],
   "source": [
    "#type\n",
    "type(result)"
   ]
  },
  {
   "cell_type": "code",
   "execution_count": 7,
   "id": "27199f81",
   "metadata": {},
   "outputs": [
    {
     "data": {
      "text/plain": [
       "int"
      ]
     },
     "execution_count": 7,
     "metadata": {},
     "output_type": "execute_result"
    }
   ],
   "source": [
    "type(4)"
   ]
  },
  {
   "cell_type": "code",
   "execution_count": 8,
   "id": "ba7ba245",
   "metadata": {},
   "outputs": [
    {
     "data": {
      "text/plain": [
       "complex"
      ]
     },
     "execution_count": 8,
     "metadata": {},
     "output_type": "execute_result"
    }
   ],
   "source": [
    "type(6+7j)"
   ]
  },
  {
   "cell_type": "code",
   "execution_count": 9,
   "id": "5b6e71d4",
   "metadata": {},
   "outputs": [
    {
     "data": {
      "text/plain": [
       "str"
      ]
     },
     "execution_count": 9,
     "metadata": {},
     "output_type": "execute_result"
    }
   ],
   "source": [
    "type(first_num)"
   ]
  },
  {
   "cell_type": "markdown",
   "id": "80576100",
   "metadata": {},
   "source": [
    "# Python Type Conversion\n",
    "In programming, type conversion is the process of converting data of one type to another. For example: converting int data to str.\n",
    "\n",
    "There are two types of type conversion in Python.\n",
    "\n",
    " 1. Implicit Conversion - automatic type conversion\n",
    " 2. Explicit Conversion - manual type conversion"
   ]
  },
  {
   "cell_type": "markdown",
   "id": "b28f4e02",
   "metadata": {},
   "source": [
    "### Python Implicit Type Conversion\n",
    "In certain situations, Python automatically converts one data type to another. This is known as implicit type conversion."
   ]
  },
  {
   "cell_type": "code",
   "execution_count": 10,
   "id": "f51b72f3",
   "metadata": {},
   "outputs": [
    {
     "name": "stdout",
     "output_type": "stream",
     "text": [
      "Value: 124.23\n",
      "Data Type: <class 'float'>\n"
     ]
    }
   ],
   "source": [
    "integer_number = 123\n",
    "float_number = 1.23\n",
    "\n",
    "new_number = integer_number + float_number\n",
    "\n",
    "# display new value and resulting data type\n",
    "print(\"Value:\",new_number)\n",
    "print(\"Data Type:\",type(new_number))"
   ]
  },
  {
   "cell_type": "markdown",
   "id": "cb53fdc1",
   "metadata": {},
   "source": [
    "In the above example, we have created two variables: integer_number and float_number of int and float type respectively.\n",
    "\n",
    "Then we added these two variables and stored the result in new_number.\n",
    "\n",
    "As we can see new_number has value 124.23 and is of the float data type.\n",
    "\n",
    "It is because Python always converts smaller data types to larger data types to avoid the loss of data."
   ]
  },
  {
   "cell_type": "markdown",
   "id": "c8517fea",
   "metadata": {},
   "source": [
    "### Python Explicit Type Conversion\n",
    "In Explicit Type Conversion, users convert the data type of an object to required data type.\n",
    "\n",
    "We use the built-in functions like int(), float(), str(), etc to perform explicit type conversion.\n",
    "\n",
    "This type of conversion is also called typecasting because the user casts (changes) the data type of the objects."
   ]
  },
  {
   "cell_type": "markdown",
   "id": "dd36a9da",
   "metadata": {},
   "source": [
    "#### Since the initial data (first_num and second_num) is stored in string format, adding operation is not possible here. First, we need to convert the string data type to an integer by type conversion, and then we can perform the addition operation."
   ]
  },
  {
   "cell_type": "code",
   "execution_count": 11,
   "id": "503008d9",
   "metadata": {},
   "outputs": [
    {
     "name": "stdout",
     "output_type": "stream",
     "text": [
      "Enter the first number: 45\n",
      "Enter the second number: 25\n",
      "70\n"
     ]
    }
   ],
   "source": [
    "first_num = input(\"Enter the first number: \")\n",
    "second_num = input(\"Enter the second number: \")\n",
    "result = int(first_num) + int(second_num)\n",
    "print(result)"
   ]
  },
  {
   "cell_type": "markdown",
   "id": "202916dc",
   "metadata": {},
   "source": [
    "this is another way of type conversion"
   ]
  },
  {
   "cell_type": "code",
   "execution_count": 12,
   "id": "2c58048b",
   "metadata": {},
   "outputs": [
    {
     "name": "stdout",
     "output_type": "stream",
     "text": [
      "Enter the first number: 30\n",
      "Enter the second number: 44\n",
      "74\n"
     ]
    }
   ],
   "source": [
    "first_num = int(input(\"Enter the first number: \"))\n",
    "second_num = int(input(\"Enter the second number: \"))\n",
    "result = first_num + second_num\n",
    "print(result)"
   ]
  },
  {
   "cell_type": "code",
   "execution_count": null,
   "id": "e0cc25fb",
   "metadata": {},
   "outputs": [],
   "source": []
  }
 ],
 "metadata": {
  "kernelspec": {
   "display_name": "Python 3 (ipykernel)",
   "language": "python",
   "name": "python3"
  },
  "language_info": {
   "codemirror_mode": {
    "name": "ipython",
    "version": 3
   },
   "file_extension": ".py",
   "mimetype": "text/x-python",
   "name": "python",
   "nbconvert_exporter": "python",
   "pygments_lexer": "ipython3",
   "version": "3.11.5"
  }
 },
 "nbformat": 4,
 "nbformat_minor": 5
}
