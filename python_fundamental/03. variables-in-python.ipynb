{
 "cells": [
  {
   "cell_type": "markdown",
   "id": "1a5631f8",
   "metadata": {},
   "source": [
    "## Variables\n",
    "Variables are containers for storing data values.\n",
    "\n",
    "## Creating Variables\n",
    "Python has no command for declaring a variable.\n",
    "\n",
    "A variable is created the moment you first assign a value to it.\n",
    "\n"
   ]
  },
  {
   "cell_type": "code",
   "execution_count": 1,
   "id": "a6dca5fa",
   "metadata": {},
   "outputs": [],
   "source": [
    "name = 'Shormi'"
   ]
  },
  {
   "cell_type": "code",
   "execution_count": 2,
   "id": "78c371bb",
   "metadata": {},
   "outputs": [
    {
     "name": "stdout",
     "output_type": "stream",
     "text": [
      "Shormi\n"
     ]
    }
   ],
   "source": [
    "print(name)"
   ]
  },
  {
   "cell_type": "markdown",
   "id": "f7899a28",
   "metadata": {},
   "source": [
    "### Python does not require declaring variable data types; it can understand the data type based on the value assigned to the variable, it is called dynamic typing. \n",
    "\n",
    "And the programming language that requires data types to be declared before values are assigned is called static typing. "
   ]
  },
  {
   "cell_type": "code",
   "execution_count": 5,
   "id": "d8104426",
   "metadata": {},
   "outputs": [],
   "source": [
    "# no variable declaration need in Python\n",
    "# Dynamic Typing --> PHP,Python\n",
    "# Static typing --> c/c++, java"
   ]
  },
  {
   "cell_type": "code",
   "execution_count": 3,
   "id": "c9fa912b",
   "metadata": {},
   "outputs": [
    {
     "name": "stdout",
     "output_type": "stream",
     "text": [
      "Hello world\n"
     ]
    }
   ],
   "source": [
    "name = 'Hello world'\n",
    "print(name)"
   ]
  },
  {
   "cell_type": "code",
   "execution_count": 4,
   "id": "4fa4c4fb",
   "metadata": {},
   "outputs": [
    {
     "name": "stdout",
     "output_type": "stream",
     "text": [
      "<class 'str'>\n"
     ]
    }
   ],
   "source": [
    "print(type(name))"
   ]
  },
  {
   "cell_type": "code",
   "execution_count": 3,
   "id": "1c1d09b0",
   "metadata": {},
   "outputs": [
    {
     "name": "stdout",
     "output_type": "stream",
     "text": [
      "True\n"
     ]
    }
   ],
   "source": [
    "name = True\n",
    "print(name)"
   ]
  },
  {
   "cell_type": "markdown",
   "id": "6fea8ddd",
   "metadata": {},
   "source": [
    "### Dynamic Binding\n",
    "When a variable can contain multiple data types, it is called dynamic binding. For example, a variable may initially store a string but later may store an integer or boolean value in the same variable. \n",
    "In Python, dynamic binding allows you to change the data type frequently.\n",
    "\n",
    "### Static Bindning\n",
    "Static binding is the opposite of dynamic binding. When a variable is declared with a data type, only values of that data type can be stored in that variable."
   ]
  },
  {
   "cell_type": "code",
   "execution_count": 5,
   "id": "cdcb7938",
   "metadata": {},
   "outputs": [
    {
     "name": "stdout",
     "output_type": "stream",
     "text": [
      "5\n",
      "6\n",
      "7\n"
     ]
    }
   ],
   "source": [
    "# special syntax\n",
    "a = 5;b=6;c=7\n",
    "print(a)\n",
    "print(b)\n",
    "print(c)"
   ]
  },
  {
   "cell_type": "code",
   "execution_count": 6,
   "id": "dade3fa1",
   "metadata": {},
   "outputs": [
    {
     "name": "stdout",
     "output_type": "stream",
     "text": [
      "4\n",
      "5\n",
      "6\n"
     ]
    }
   ],
   "source": [
    "a,b,c = 4,5,6\n",
    "print(a)\n",
    "print(b)\n",
    "print(c)"
   ]
  },
  {
   "cell_type": "code",
   "execution_count": 7,
   "id": "34096fc0",
   "metadata": {},
   "outputs": [
    {
     "name": "stdout",
     "output_type": "stream",
     "text": [
      "6\n",
      "6\n",
      "6\n"
     ]
    }
   ],
   "source": [
    "a = b = c = 6\n",
    "print(a)\n",
    "print(b)\n",
    "print(c)"
   ]
  },
  {
   "cell_type": "code",
   "execution_count": null,
   "id": "58da63e7",
   "metadata": {},
   "outputs": [],
   "source": []
  }
 ],
 "metadata": {
  "kernelspec": {
   "display_name": "Python 3 (ipykernel)",
   "language": "python",
   "name": "python3"
  },
  "language_info": {
   "codemirror_mode": {
    "name": "ipython",
    "version": 3
   },
   "file_extension": ".py",
   "mimetype": "text/x-python",
   "name": "python",
   "nbconvert_exporter": "python",
   "pygments_lexer": "ipython3",
   "version": "3.11.5"
  }
 },
 "nbformat": 4,
 "nbformat_minor": 5
}
