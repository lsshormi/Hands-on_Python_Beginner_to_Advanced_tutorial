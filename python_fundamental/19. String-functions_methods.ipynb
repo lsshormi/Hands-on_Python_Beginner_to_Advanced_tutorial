{
 "cells": [
  {
   "cell_type": "markdown",
   "metadata": {},
   "source": [
    "# Python Common String Functions/Methods \n",
    "\n",
    "In this tutorial, we'll explore various string methods in Python with detailed explanations and examples."
   ]
  },
  {
   "cell_type": "markdown",
   "metadata": {},
   "source": [
    "## Built-in String Functions\n",
    "\n",
    "1. len() - String Length\n",
    "2. max() - Highest character\n",
    "3. min() - Lowest character\n",
    "4. sorted() - Sorted characters"
   ]
  },
  {
   "cell_type": "markdown",
   "metadata": {},
   "source": [
    "### 1. len() Function\n",
    "The `len()` function returns the length (number of characters) in a string."
   ]
  },
  {
   "cell_type": "code",
   "execution_count": 1,
   "metadata": {},
   "outputs": [
    {
     "name": "stdout",
     "output_type": "stream",
     "text": [
      "13\n",
      "27\n"
     ]
    }
   ],
   "source": [
    "text = \"Hello, World!\"\n",
    "print(len(text))  # Output: 13\n",
    "\n",
    "# Works with multi-line strings too\n",
    "multiline = \"\"\"This is a\n",
    "multi-line string\"\"\"\n",
    "print(len(multiline))  # Includes newline characters"
   ]
  },
  {
   "cell_type": "markdown",
   "metadata": {},
   "source": [
    "### 2. max() Function\n",
    "Returns the character with the highest Unicode value in the string."
   ]
  },
  {
   "cell_type": "code",
   "execution_count": 2,
   "metadata": {},
   "outputs": [
    {
     "name": "stdout",
     "output_type": "stream",
     "text": [
      "o\n",
      "5\n"
     ]
    }
   ],
   "source": [
    "text = \"Hello123\"\n",
    "print(max(text))  # Output: 'o' (highest Unicode value)\n",
    "\n",
    "# Useful for finding the 'largest' character\n",
    "numbers = \"12345\"\n",
    "print(max(numbers))  # Output: '5'"
   ]
  },
  {
   "cell_type": "markdown",
   "metadata": {},
   "source": [
    "### 3. min() Function\n",
    "Returns the character with the lowest Unicode value in the string."
   ]
  },
  {
   "cell_type": "code",
   "execution_count": 3,
   "metadata": {},
   "outputs": [
    {
     "name": "stdout",
     "output_type": "stream",
     "text": [
      "1\n",
      "a\n"
     ]
    }
   ],
   "source": [
    "text = \"Hello123\"\n",
    "print(min(text))  # Output: '1' (lowest Unicode value)\n",
    "\n",
    "# Useful for finding the 'smallest' character\n",
    "letters = \"abcdef\"\n",
    "print(min(letters))  # Output: 'a'"
   ]
  },
  {
   "cell_type": "markdown",
   "metadata": {},
   "source": [
    "### 4. sorted() Function\n",
    "Returns a sorted list of characters from the string."
   ]
  },
  {
   "cell_type": "code",
   "execution_count": 4,
   "metadata": {},
   "outputs": [
    {
     "name": "stdout",
     "output_type": "stream",
     "text": [
      "['h', 'n', 'o', 'p', 't', 'y']\n",
      "hnopty\n",
      "['y', 't', 'p', 'o', 'n', 'h']\n"
     ]
    }
   ],
   "source": [
    "text = \"python\"\n",
    "print(sorted(text))  # Output: ['h', 'n', 'o', 'p', 't', 'y']\n",
    "\n",
    "# Join them back to a string\n",
    "sorted_text = ''.join(sorted(text))\n",
    "print(sorted_text)  # Output: 'hnopy'\n",
    "\n",
    "# Sort in reverse order\n",
    "print(sorted(text, reverse=True))  # Output: ['y', 't', 'p', 'o', 'n', 'h']"
   ]
  },
  {
   "cell_type": "markdown",
   "metadata": {},
   "source": [
    "## Case Conversion Methods\n",
    "\n",
    "5. capitalize()\n",
    "6. title()\n",
    "7. upper()\n",
    "8. lower()\n",
    "9. swapcase()"
   ]
  },
  {
   "cell_type": "markdown",
   "metadata": {},
   "source": [
    "### 5. capitalize() Method\n",
    "Converts the first character to uppercase and the rest to lowercase."
   ]
  },
  {
   "cell_type": "code",
   "execution_count": 5,
   "metadata": {},
   "outputs": [
    {
     "name": "stdout",
     "output_type": "stream",
     "text": [
      "Hello world\n",
      "This is a sentence.\n"
     ]
    }
   ],
   "source": [
    "text = \"hello WORLD\"\n",
    "print(text.capitalize())  # Output: \"Hello world\"\n",
    "\n",
    "# Works with sentences\n",
    "sentence = \"this IS a SENTENCE.\"\n",
    "print(sentence.capitalize())  # Output: \"This is a sentence.\""
   ]
  },
  {
   "cell_type": "markdown",
   "metadata": {},
   "source": [
    "### 6. title() Method\n",
    "Converts the first character of each word to uppercase."
   ]
  },
  {
   "cell_type": "code",
   "execution_count": 6,
   "metadata": {},
   "outputs": [
    {
     "name": "stdout",
     "output_type": "stream",
     "text": [
      "Welcome To Python Programming\n",
      "Hello-World Python_Programming\n"
     ]
    }
   ],
   "source": [
    "text = \"welcome to python programming\"\n",
    "print(text.title())  # Output: \"Welcome To Python Programming\"\n",
    "\n",
    "# Works with special characters\n",
    "text_with_special = \"hello-world python_programming\"\n",
    "print(text_with_special.title())  # Output: \"Hello-World Python_Programming\""
   ]
  },
  {
   "cell_type": "markdown",
   "metadata": {},
   "source": [
    "### 7. upper() Method\n",
    "Converts all characters to uppercase."
   ]
  },
  {
   "cell_type": "code",
   "execution_count": 7,
   "metadata": {},
   "outputs": [
    {
     "name": "stdout",
     "output_type": "stream",
     "text": [
      "HELLO, WORLD!\n",
      "User agreed\n"
     ]
    }
   ],
   "source": [
    "text = \"Hello, World!\"\n",
    "print(text.upper())  # Output: \"HELLO, WORLD!\"\n",
    "\n",
    "# Useful for case-insensitive comparisons\n",
    "user_input = \"Yes\"\n",
    "if user_input.upper() == \"YES\":\n",
    "    print(\"User agreed\")"
   ]
  },
  {
   "cell_type": "markdown",
   "metadata": {},
   "source": [
    "### 8. lower() Method\n",
    "Converts all characters to lowercase."
   ]
  },
  {
   "cell_type": "code",
   "execution_count": 8,
   "metadata": {},
   "outputs": [
    {
     "name": "stdout",
     "output_type": "stream",
     "text": [
      "hello, world!\n",
      "user@example.com\n"
     ]
    }
   ],
   "source": [
    "text = \"Hello, WORLD!\"\n",
    "print(text.lower())  # Output: \"hello, world!\"\n",
    "\n",
    "# Case-insensitive email validation\n",
    "email = \"User@Example.com\"\n",
    "normalized_email = email.lower()\n",
    "print(normalized_email)  # Output: \"user@example.com\""
   ]
  },
  {
   "cell_type": "markdown",
   "metadata": {},
   "source": [
    "### 9. swapcase() Method\n",
    "Swaps the case of each character (uppercase becomes lowercase and vice versa)."
   ]
  },
  {
   "cell_type": "code",
   "execution_count": 9,
   "metadata": {},
   "outputs": [
    {
     "name": "stdout",
     "output_type": "stream",
     "text": [
      "hELLO, wORLD!\n",
      "Hello, World!\n"
     ]
    }
   ],
   "source": [
    "text = \"Hello, World!\"\n",
    "print(text.swapcase())  # Output: \"hELLO, wORLD!\"\n",
    "\n",
    "# Multiple swaps return to original\n",
    "twice_swapped = text.swapcase().swapcase()\n",
    "print(twice_swapped)  # Output: \"Hello, World!\""
   ]
  },
  {
   "cell_type": "markdown",
   "metadata": {},
   "source": [
    "## Search and Find Methods\n",
    "\n",
    "10. count() \n",
    "11. find() \n",
    "12. index() \n",
    "13. endswith() \n",
    "14. startswith() "
   ]
  },
  {
   "cell_type": "markdown",
   "metadata": {},
   "source": [
    "### 10. count() Method\n",
    "Returns the number of occurrences of a substring."
   ]
  },
  {
   "cell_type": "code",
   "execution_count": 10,
   "metadata": {},
   "outputs": [
    {
     "name": "stdout",
     "output_type": "stream",
     "text": [
      "4\n",
      "2\n",
      "2\n"
     ]
    }
   ],
   "source": [
    "text = \"Mississippi\"\n",
    "print(text.count('s'))  # Output: 4\n",
    "\n",
    "# Count with start and end positions\n",
    "print(text.count('s', 0, 5))  # Output: 2 (only counts 's' in \"Missi\")\n",
    "\n",
    "# Count overlapping substrings\n",
    "text = \"aaaaa\"\n",
    "print(text.count('aa'))  # Output: 2 (non-overlapping matches)"
   ]
  },
  {
   "cell_type": "markdown",
   "metadata": {},
   "source": [
    "### 11. find() Method\n",
    "Returns the lowest index of a substring. Returns -1 if not found."
   ]
  },
  {
   "cell_type": "code",
   "execution_count": 11,
   "metadata": {},
   "outputs": [
    {
     "name": "stdout",
     "output_type": "stream",
     "text": [
      "7\n",
      "-1\n",
      "8\n",
      "Substring found!\n"
     ]
    }
   ],
   "source": [
    "text = \"Hello, World!\"\n",
    "print(text.find('World'))  # Output: 7\n",
    "print(text.find('Python'))  # Output: -1 (not found)\n",
    "\n",
    "# Find with start and end positions\n",
    "print(text.find('o', 5))  # Output: 7 (finds second 'o')\n",
    "\n",
    "# Safe way to check for substring\n",
    "if text.find('World') != -1:\n",
    "    print(\"Substring found!\")"
   ]
  },
  {
   "cell_type": "markdown",
   "metadata": {},
   "source": [
    "### 12. index() Method\n",
    "Similar to find(), but raises ValueError if substring is not found."
   ]
  },
  {
   "cell_type": "code",
   "execution_count": 12,
   "metadata": {},
   "outputs": [
    {
     "name": "stdout",
     "output_type": "stream",
     "text": [
      "Found at position: 7\n",
      "Substring not found!\n"
     ]
    }
   ],
   "source": [
    "text = \"Hello, World!\"\n",
    "try:\n",
    "    position = text.index('World')\n",
    "    print(f\"Found at position: {position}\")  # Output: Found at position: 7\n",
    "    \n",
    "    # This will raise ValueError\n",
    "    position = text.index('Python')\n",
    "except ValueError:\n",
    "    print(\"Substring not found!\")"
   ]
  },
  {
   "cell_type": "markdown",
   "metadata": {},
   "source": [
    "### 13. endswith() Method\n",
    "Returns True if string ends with specified suffix."
   ]
  },
  {
   "cell_type": "code",
   "execution_count": 13,
   "metadata": {},
   "outputs": [
    {
     "name": "stdout",
     "output_type": "stream",
     "text": [
      "True\n",
      "True\n",
      "True\n"
     ]
    }
   ],
   "source": [
    "filename = \"document.pdf\"\n",
    "print(filename.endswith('.pdf'))  # Output: True\n",
    "\n",
    "# Check multiple possible endings\n",
    "image_file = \"photo.jpg\"\n",
    "print(image_file.endswith(('.jpg', '.png', '.gif')))  # Output: True\n",
    "\n",
    "# Check with start and end positions\n",
    "text = \"Hello, World!\"\n",
    "print(text.endswith('World', 0, 12))  # Output: True"
   ]
  },
  {
   "cell_type": "markdown",
   "metadata": {},
   "source": [
    "### 14. startswith() Method\n",
    "Returns True if string starts with specified prefix."
   ]
  },
  {
   "cell_type": "code",
   "execution_count": 14,
   "metadata": {},
   "outputs": [
    {
     "name": "stdout",
     "output_type": "stream",
     "text": [
      "True\n",
      "True\n",
      "True\n"
     ]
    }
   ],
   "source": [
    "text = \"https://www.example.com\"\n",
    "print(text.startswith('https'))  # Output: True\n",
    "\n",
    "# Check multiple possible starts\n",
    "print(text.startswith(('http://', 'https://')))  # Output: True\n",
    "\n",
    "# Useful for validating file names\n",
    "filename = \"IMG_1234.jpg\"\n",
    "print(filename.startswith('IMG_'))  # Output: True"
   ]
  },
  {
   "cell_type": "markdown",
   "metadata": {},
   "source": [
    "## String Formatting\n",
    "\n",
    "15. format() Method and f-strings"
   ]
  },
  {
   "cell_type": "markdown",
   "metadata": {},
   "source": [
    "### 15. format() Method and f-strings\n",
    "Both are used for string formatting, with f-strings being more modern and readable."
   ]
  },
  {
   "cell_type": "code",
   "execution_count": 15,
   "metadata": {},
   "outputs": [
    {
     "name": "stdout",
     "output_type": "stream",
     "text": [
      "Hello, Alice! You are 25 years old.\n",
      "Hello, Alice! You are 25 years old.\n",
      "Hello, Alice! You are 25 years old.\n",
      "Total: $59.97\n",
      "Number: 123.46\n",
      "Number:     123.46\n",
      "Binary: 101010\n"
     ]
    }
   ],
   "source": [
    "# format() method\n",
    "name = \"Alice\"\n",
    "age = 25\n",
    "print(\"Hello, {}! You are {} years old.\".format(name, age))\n",
    "\n",
    "# Named placeholders\n",
    "print(\"Hello, {n}! You are {a} years old.\".format(n=name, a=age))\n",
    "\n",
    "# f-strings (Python 3.6+)\n",
    "print(f\"Hello, {name}! You are {age} years old.\")\n",
    "\n",
    "# f-strings with expressions\n",
    "price = 19.99\n",
    "quantity = 3\n",
    "print(f\"Total: ${price * quantity:.2f}\")\n",
    "\n",
    "# Advanced formatting\n",
    "number = 123.456789\n",
    "print(f\"Number: {number:.2f}\")  # Two decimal places\n",
    "print(f\"Number: {number:10.2f}\")  # Width of 10, two decimal places\n",
    "print(f\"Binary: {42:b}\")  # Binary format"
   ]
  },
  {
   "cell_type": "markdown",
   "metadata": {},
   "source": [
    "## Validation Methods\n",
    "\n",
    "16. isalnum() \n",
    "17. isalpha() \n",
    "18. isdigit() \n",
    "19. isidentifier() "
   ]
  },
  {
   "cell_type": "markdown",
   "metadata": {},
   "source": [
    "### 16. isalnum() Method\n",
    "Returns True if all characters are alphanumeric (letters or numbers)."
   ]
  },
  {
   "cell_type": "code",
   "execution_count": 16,
   "metadata": {},
   "outputs": [
    {
     "name": "stdout",
     "output_type": "stream",
     "text": [
      "True\n",
      "False\n",
      "Valid input: only letters and numbers\n"
     ]
    }
   ],
   "source": [
    "print(\"Hello123\".isalnum())  # Output: True\n",
    "print(\"Hello 123\".isalnum())  # Output: False (space is not alphanumeric)\n",
    "\n",
    "# Useful for validation\n",
    "user_input = \"UserName123\"\n",
    "if user_input.isalnum():\n",
    "    print(\"Valid input: only letters and numbers\")"
   ]
  },
  {
   "cell_type": "markdown",
   "metadata": {},
   "source": [
    "### 17. isalpha() Method\n",
    "Returns True if all characters are alphabetic (letters)."
   ]
  },
  {
   "cell_type": "code",
   "execution_count": 17,
   "metadata": {},
   "outputs": [
    {
     "name": "stdout",
     "output_type": "stream",
     "text": [
      "True\n",
      "False\n",
      "Valid name: contains only letters\n"
     ]
    }
   ],
   "source": [
    "print(\"Hello\".isalpha())  # Output: True\n",
    "print(\"Hello123\".isalpha())  # Output: False\n",
    "\n",
    "# Useful for name validation\n",
    "name = \"John\"\n",
    "if name.isalpha():\n",
    "    print(\"Valid name: contains only letters\")"
   ]
  },
  {
   "cell_type": "markdown",
   "metadata": {},
   "source": [
    "### 18. isdigit() Method\n",
    "Returns True if all characters are digits."
   ]
  },
  {
   "cell_type": "code",
   "execution_count": 18,
   "metadata": {},
   "outputs": [
    {
     "name": "stdout",
     "output_type": "stream",
     "text": [
      "True\n",
      "False\n",
      "Age verified: 25 years old\n"
     ]
    }
   ],
   "source": [
    "print(\"123\".isdigit())  # Output: True\n",
    "print(\"123.45\".isdigit())  # Output: False (decimal point is not a digit)\n",
    "\n",
    "# Useful for input validation\n",
    "age = \"25\"\n",
    "if age.isdigit():\n",
    "    age_num = int(age)\n",
    "    print(f\"Age verified: {age_num} years old\")"
   ]
  },
  {
   "cell_type": "markdown",
   "metadata": {},
   "source": [
    "### 19. isidentifier() Method\n",
    "Returns True if the string is a valid Python identifier."
   ]
  },
  {
   "cell_type": "code",
   "execution_count": 19,
   "metadata": {},
   "outputs": [
    {
     "name": "stdout",
     "output_type": "stream",
     "text": [
      "True\n",
      "False\n",
      "False\n",
      "_hidden_var is a valid Python identifier\n"
     ]
    }
   ],
   "source": [
    "print(\"variable_name\".isidentifier())  # Output: True\n",
    "print(\"123variable\".isidentifier())  # Output: False (can't start with number)\n",
    "print(\"my-var\".isidentifier())  # Output: False (hyphen not allowed)\n",
    "\n",
    "# Useful for checking variable names\n",
    "proposed_name = \"_hidden_var\"\n",
    "if proposed_name.isidentifier():\n",
    "    print(f\"{proposed_name} is a valid Python identifier\")"
   ]
  },
  {
   "cell_type": "markdown",
   "metadata": {},
   "source": [
    "## String Manipulation Methods\n",
    "\n",
    "20. split() examples:\n",
    "    Basic split: ['Hello', 'World', 'Python']\n",
    "    Split with delimiter: ['Hello', 'World', 'Python']\n",
    "\n",
    "21. join() examples:\n",
    "    Basic join: Hello-World-Python\n",
    "    Join with spaces: Hello World Python\n",
    "\n",
    "22. replace() examples:\n",
    "    Basic replace: Hello Python Python\n",
    "    Replace with count: Hello Python World\n",
    "\n",
    "23. strip() examples:\n",
    "    Original string: '   Hello World   '\n",
    "    After strip(): 'Hello World'\n",
    "    After lstrip(): 'Hello World   '\n",
    "    After rstrip(): '   Hello World'"
   ]
  },
  {
   "cell_type": "markdown",
   "metadata": {},
   "source": [
    "### 20. split() Method\n",
    "Splits string into a list based on a delimiter."
   ]
  },
  {
   "cell_type": "code",
   "execution_count": 20,
   "metadata": {},
   "outputs": [
    {
     "name": "stdout",
     "output_type": "stream",
     "text": [
      "['Hello', 'World', 'Python']\n",
      "['apple', 'banana', 'orange']\n",
      "['one', 'two', 'three:four']\n",
      "['Line 1', 'Line 2', 'Line 3']\n"
     ]
    }
   ],
   "source": [
    "# Split by space (default)\n",
    "text = \"Hello World Python\"\n",
    "print(text.split())  # Output: ['Hello', 'World', 'Python']\n",
    "\n",
    "# Split by specific delimiter\n",
    "csv_data = \"apple,banana,orange\"\n",
    "print(csv_data.split(','))  # Output: ['apple', 'banana', 'orange']\n",
    "\n",
    "# Split with maximum splits\n",
    "text = \"one:two:three:four\"\n",
    "print(text.split(':', 2))  # Output: ['one', 'two', 'three:four']\n",
    "\n",
    "# Split lines\n",
    "multiline = \"\"\"Line 1\n",
    "Line 2\n",
    "Line 3\"\"\"\n",
    "print(multiline.splitlines())  # Output: ['Line 1', 'Line 2', 'Line 3']"
   ]
  },
  {
   "cell_type": "markdown",
   "metadata": {},
   "source": [
    "### 21. join() Method\n",
    "Joins elements of an iterable with the string as separator."
   ]
  },
  {
   "cell_type": "code",
   "execution_count": 21,
   "metadata": {},
   "outputs": [
    {
     "name": "stdout",
     "output_type": "stream",
     "text": [
      "Hello World Python\n",
      "apple,banana,orange\n",
      "Hello\n",
      "Line 1\n",
      "Line 2\n",
      "Line 3\n"
     ]
    }
   ],
   "source": [
    "# Join with space\n",
    "words = ['Hello', 'World', 'Python']\n",
    "print(' '.join(words))  # Output: \"Hello World Python\"\n",
    "\n",
    "# Join with comma\n",
    "fruits = ['apple', 'banana', 'orange']\n",
    "print(','.join(fruits))  # Output: \"apple,banana,orange\"\n",
    "\n",
    "# Join with empty string\n",
    "characters = ['H', 'e', 'l', 'l', 'o']\n",
    "print(''.join(characters))  # Output: \"Hello\"\n",
    "\n",
    "# Join with newline\n",
    "lines = ['Line 1', 'Line 2', 'Line 3']\n",
    "print('\\n'.join(lines))  # Output: Multi-line string"
   ]
  },
  {
   "cell_type": "markdown",
   "metadata": {},
   "source": [
    "### 22. replace() Method\n",
    "Replaces occurrences of a substring with another substring."
   ]
  },
  {
   "cell_type": "code",
   "execution_count": 22,
   "metadata": {},
   "outputs": [
    {
     "name": "stdout",
     "output_type": "stream",
     "text": [
      "Hello Python\n",
      "lol lol ha ha\n",
      "Hello World!\n",
      "Hi Python, hello world\n"
     ]
    }
   ],
   "source": [
    "# Basic replacement\n",
    "text = \"Hello World\"\n",
    "print(text.replace('World', 'Python'))  # Output: \"Hello Python\"\n",
    "\n",
    "# Replace with count\n",
    "text = \"ha ha ha ha\"\n",
    "print(text.replace('ha', 'lol', 2))  # Output: \"lol lol ha ha\"\n",
    "\n",
    "# Remove characters\n",
    "text = \"Hello, World!\"\n",
    "print(text.replace(',', ''))  # Output: \"Hello World!\"\n",
    "\n",
    "# Multiple replacements\n",
    "text = \"Hello World, hello world\"\n",
    "cleaned = text.replace('Hello', 'Hi').replace('World', 'Python')\n",
    "print(cleaned)  # Output: \"Hi Python, hello python\""
   ]
  },
  {
   "cell_type": "markdown",
   "metadata": {},
   "source": [
    "### 23. strip() Method\n",
    "Removes leading and trailing characters (whitespace by default)."
   ]
  },
  {
   "cell_type": "code",
   "execution_count": 23,
   "metadata": {},
   "outputs": [
    {
     "name": "stdout",
     "output_type": "stream",
     "text": [
      "Hello World\n",
      "Hello World\n",
      "Hello World   \n",
      "   Hello World\n",
      "Hello World\n"
     ]
    }
   ],
   "source": [
    "# Remove whitespace\n",
    "text = \"   Hello World   \"\n",
    "print(text.strip())  # Output: \"Hello World\"\n",
    "\n",
    "# Remove specific characters\n",
    "text = \"...Hello World...\"\n",
    "print(text.strip('.'))  # Output: \"Hello World\"\n",
    "\n",
    "# Left strip only (lstrip)\n",
    "text = \"   Hello World   \"\n",
    "print(text.lstrip())  # Output: \"Hello World   \"\n",
    "\n",
    "# Right strip only (rstrip)\n",
    "text = \"   Hello World   \"\n",
    "print(text.rstrip())  # Output: \"   Hello World\"\n",
    "\n",
    "# Multiple characters\n",
    "text = \"...###Hello World###...\"\n",
    "print(text.strip('.#'))  # Output: \"Hello World\""
   ]
  },
  {
   "cell_type": "markdown",
   "metadata": {},
   "source": [
    "## Bonus: Common String Method Combinations\n",
    "\n",
    "Here are some practical examples combining multiple string methods:"
   ]
  },
  {
   "cell_type": "code",
   "execution_count": 24,
   "metadata": {},
   "outputs": [
    {
     "name": "stdout",
     "output_type": "stream",
     "text": [
      "John Doe\n",
      "John Doe: john.doe@example.com\n",
      "this-is-a-blog-post-title\n",
      "(123) 456-7890\n"
     ]
    }
   ],
   "source": [
    "# Clean and normalize user input\n",
    "user_input = \"   John Doe  \"\n",
    "cleaned_name = user_input.strip().title()\n",
    "print(cleaned_name)  # Output: \"John Doe\"\n",
    "\n",
    "# Parse CSV data\n",
    "csv_line = \"john,DOE,john.doe@example.com\"\n",
    "first, last, email = [item.strip() for item in csv_line.split(',')]\n",
    "print(f\"{first.title()} {last.title()}: {email.lower()}\")\n",
    "\n",
    "# URL slug creation\n",
    "title = \"This Is a Blog Post Title!\"\n",
    "slug = title.lower().replace(' ', '-').replace('!', '')\n",
    "print(slug)  # Output: \"this-is-a-blog-post-title\"\n",
    "\n",
    "# Format phone number\n",
    "phone = \"1234567890\"\n",
    "formatted = f\"({phone[:3]}) {phone[3:6]}-{phone[6:]}\"\n",
    "print(formatted)  # Output: \"(123) 456-7890\""
   ]
  },
  {
   "cell_type": "code",
   "execution_count": null,
   "metadata": {},
   "outputs": [],
   "source": []
  }
 ],
 "metadata": {
  "kernelspec": {
   "display_name": "Python 3 (ipykernel)",
   "language": "python",
   "name": "python3"
  },
  "language_info": {
   "codemirror_mode": {
    "name": "ipython",
    "version": 3
   },
   "file_extension": ".py",
   "mimetype": "text/x-python",
   "name": "python",
   "nbconvert_exporter": "python",
   "pygments_lexer": "ipython3",
   "version": "3.11.5"
  }
 },
 "nbformat": 4,
 "nbformat_minor": 4
}
