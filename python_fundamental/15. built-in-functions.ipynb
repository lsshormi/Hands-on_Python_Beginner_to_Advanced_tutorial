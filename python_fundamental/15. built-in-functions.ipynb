{
 "cells": [
  {
   "cell_type": "markdown",
   "id": "0ca935af",
   "metadata": {},
   "source": [
    "# These are the most commonly used built-in functions in Python"
   ]
  },
  {
   "cell_type": "markdown",
   "id": "3731b06c",
   "metadata": {},
   "source": [
    "### 1. print"
   ]
  },
  {
   "cell_type": "code",
   "execution_count": 1,
   "id": "5519dfa5",
   "metadata": {},
   "outputs": [
    {
     "name": "stdout",
     "output_type": "stream",
     "text": [
      "Hello world\n"
     ]
    }
   ],
   "source": [
    "print(\"Hello world\")"
   ]
  },
  {
   "cell_type": "markdown",
   "id": "3796216b",
   "metadata": {},
   "source": [
    "### 2. input"
   ]
  },
  {
   "cell_type": "code",
   "execution_count": 2,
   "id": "76b36e0f",
   "metadata": {},
   "outputs": [
    {
     "name": "stdout",
     "output_type": "stream",
     "text": [
      "Enter your name: Shormi\n"
     ]
    },
    {
     "data": {
      "text/plain": [
       "'Shormi'"
      ]
     },
     "execution_count": 2,
     "metadata": {},
     "output_type": "execute_result"
    }
   ],
   "source": [
    "input(\"Enter your name: \")"
   ]
  },
  {
   "cell_type": "markdown",
   "id": "73884422",
   "metadata": {},
   "source": [
    "### 3. type"
   ]
  },
  {
   "cell_type": "code",
   "execution_count": 3,
   "id": "cbccd433",
   "metadata": {},
   "outputs": [
    {
     "data": {
      "text/plain": [
       "bool"
      ]
     },
     "execution_count": 3,
     "metadata": {},
     "output_type": "execute_result"
    }
   ],
   "source": [
    "a = True\n",
    "type(a)"
   ]
  },
  {
   "cell_type": "markdown",
   "id": "b25efbf8",
   "metadata": {},
   "source": [
    "### 4. int etc."
   ]
  },
  {
   "cell_type": "code",
   "execution_count": 4,
   "id": "e7bd7278",
   "metadata": {},
   "outputs": [
    {
     "data": {
      "text/plain": [
       "5"
      ]
     },
     "execution_count": 4,
     "metadata": {},
     "output_type": "execute_result"
    }
   ],
   "source": [
    "int(5.6)\n",
    "# float\n",
    "# str\n",
    "# list\n",
    "# tuple"
   ]
  },
  {
   "cell_type": "markdown",
   "id": "9e787323",
   "metadata": {},
   "source": [
    "### 5. abs"
   ]
  },
  {
   "cell_type": "code",
   "execution_count": 5,
   "id": "7db5a718",
   "metadata": {},
   "outputs": [
    {
     "data": {
      "text/plain": [
       "4"
      ]
     },
     "execution_count": 5,
     "metadata": {},
     "output_type": "execute_result"
    }
   ],
   "source": [
    "# this is basically the Modulus function \n",
    "abs(-4)"
   ]
  },
  {
   "cell_type": "markdown",
   "id": "a51da848",
   "metadata": {},
   "source": [
    "### 6. pow"
   ]
  },
  {
   "cell_type": "code",
   "execution_count": 6,
   "id": "a8329d55",
   "metadata": {},
   "outputs": [
    {
     "data": {
      "text/plain": [
       "8"
      ]
     },
     "execution_count": 6,
     "metadata": {},
     "output_type": "execute_result"
    }
   ],
   "source": [
    "pow(2,3)"
   ]
  },
  {
   "cell_type": "code",
   "execution_count": 7,
   "id": "273a1eed",
   "metadata": {},
   "outputs": [
    {
     "data": {
      "text/plain": [
       "0.125"
      ]
     },
     "execution_count": 7,
     "metadata": {},
     "output_type": "execute_result"
    }
   ],
   "source": [
    "pow(2,-3)"
   ]
  },
  {
   "cell_type": "markdown",
   "id": "1ebc04f5",
   "metadata": {},
   "source": [
    "### 7. min/max"
   ]
  },
  {
   "cell_type": "code",
   "execution_count": 8,
   "id": "8615a2dc",
   "metadata": {},
   "outputs": [
    {
     "data": {
      "text/plain": [
       "9"
      ]
     },
     "execution_count": 8,
     "metadata": {},
     "output_type": "execute_result"
    }
   ],
   "source": [
    "max([2,5,9,7,8])"
   ]
  },
  {
   "cell_type": "code",
   "execution_count": 9,
   "id": "7002f055",
   "metadata": {},
   "outputs": [
    {
     "data": {
      "text/plain": [
       "'D'"
      ]
     },
     "execution_count": 9,
     "metadata": {},
     "output_type": "execute_result"
    }
   ],
   "source": [
    "min(\"Dhaka\") #based on ASCII value"
   ]
  },
  {
   "cell_type": "markdown",
   "id": "9574b725",
   "metadata": {},
   "source": [
    "### 8. round"
   ]
  },
  {
   "cell_type": "code",
   "execution_count": 10,
   "id": "248ec8dc",
   "metadata": {},
   "outputs": [
    {
     "name": "stdout",
     "output_type": "stream",
     "text": [
      "3.142857142857143\n"
     ]
    }
   ],
   "source": [
    "c = 22/7\n",
    "print(c)"
   ]
  },
  {
   "cell_type": "code",
   "execution_count": 11,
   "id": "a6e05e06",
   "metadata": {},
   "outputs": [
    {
     "data": {
      "text/plain": [
       "3"
      ]
     },
     "execution_count": 11,
     "metadata": {},
     "output_type": "execute_result"
    }
   ],
   "source": [
    "c = 22/7\n",
    "round(c)"
   ]
  },
  {
   "cell_type": "code",
   "execution_count": 12,
   "id": "a1f3905d",
   "metadata": {},
   "outputs": [
    {
     "data": {
      "text/plain": [
       "3.14"
      ]
     },
     "execution_count": 12,
     "metadata": {},
     "output_type": "execute_result"
    }
   ],
   "source": [
    "c = 22/7\n",
    "round(c,2)"
   ]
  },
  {
   "cell_type": "markdown",
   "id": "57c75601",
   "metadata": {},
   "source": [
    "### 9. divmod"
   ]
  },
  {
   "cell_type": "code",
   "execution_count": 13,
   "id": "b7c55e52",
   "metadata": {},
   "outputs": [
    {
     "data": {
      "text/plain": [
       "(2, 1)"
      ]
     },
     "execution_count": 13,
     "metadata": {},
     "output_type": "execute_result"
    }
   ],
   "source": [
    "divmod(5,2)  # return the tuple (5//2,5%2)"
   ]
  },
  {
   "cell_type": "markdown",
   "id": "3ce91dc7",
   "metadata": {},
   "source": [
    "### 10. bin/oct/hex"
   ]
  },
  {
   "cell_type": "code",
   "execution_count": 14,
   "id": "befc962b",
   "metadata": {},
   "outputs": [
    {
     "data": {
      "text/plain": [
       "'0x4'"
      ]
     },
     "execution_count": 14,
     "metadata": {},
     "output_type": "execute_result"
    }
   ],
   "source": [
    "hex(4)"
   ]
  },
  {
   "cell_type": "code",
   "execution_count": 15,
   "id": "a69c8ad8",
   "metadata": {},
   "outputs": [
    {
     "data": {
      "text/plain": [
       "'0b100'"
      ]
     },
     "execution_count": 15,
     "metadata": {},
     "output_type": "execute_result"
    }
   ],
   "source": [
    "bin(4)"
   ]
  },
  {
   "cell_type": "code",
   "execution_count": 16,
   "id": "bb9f8fea",
   "metadata": {},
   "outputs": [
    {
     "data": {
      "text/plain": [
       "'0o4'"
      ]
     },
     "execution_count": 16,
     "metadata": {},
     "output_type": "execute_result"
    }
   ],
   "source": [
    "oct(4)"
   ]
  },
  {
   "cell_type": "markdown",
   "id": "f805884c",
   "metadata": {},
   "source": [
    "### 11. id"
   ]
  },
  {
   "cell_type": "code",
   "execution_count": 17,
   "id": "e586c791",
   "metadata": {},
   "outputs": [
    {
     "data": {
      "text/plain": [
       "8885384"
      ]
     },
     "execution_count": 17,
     "metadata": {},
     "output_type": "execute_result"
    }
   ],
   "source": [
    "a = 3\n",
    "id(a)    # return the memory address of variable"
   ]
  },
  {
   "cell_type": "markdown",
   "id": "ab3332fe",
   "metadata": {},
   "source": [
    "### 12. ord"
   ]
  },
  {
   "cell_type": "code",
   "execution_count": 18,
   "id": "d8066c68",
   "metadata": {},
   "outputs": [
    {
     "data": {
      "text/plain": [
       "65"
      ]
     },
     "execution_count": 18,
     "metadata": {},
     "output_type": "execute_result"
    }
   ],
   "source": [
    "ord('A')    "
   ]
  },
  {
   "cell_type": "markdown",
   "id": "5d9a183c",
   "metadata": {},
   "source": [
    "### 13. len"
   ]
  },
  {
   "cell_type": "code",
   "execution_count": 19,
   "id": "828901d4",
   "metadata": {},
   "outputs": [
    {
     "data": {
      "text/plain": [
       "3"
      ]
     },
     "execution_count": 19,
     "metadata": {},
     "output_type": "execute_result"
    }
   ],
   "source": [
    "len([1,2,3])"
   ]
  },
  {
   "cell_type": "code",
   "execution_count": 20,
   "id": "0ae40bb2",
   "metadata": {},
   "outputs": [
    {
     "data": {
      "text/plain": [
       "5"
      ]
     },
     "execution_count": 20,
     "metadata": {},
     "output_type": "execute_result"
    }
   ],
   "source": [
    "len(\"Dhaka\")"
   ]
  },
  {
   "cell_type": "markdown",
   "id": "6dceb3b7",
   "metadata": {},
   "source": [
    "### 14. sum"
   ]
  },
  {
   "cell_type": "code",
   "execution_count": 21,
   "id": "e1e11efb",
   "metadata": {},
   "outputs": [
    {
     "data": {
      "text/plain": [
       "15"
      ]
     },
     "execution_count": 21,
     "metadata": {},
     "output_type": "execute_result"
    }
   ],
   "source": [
    "sum({1,2,3,4,5})"
   ]
  },
  {
   "cell_type": "markdown",
   "id": "385dc8ce",
   "metadata": {},
   "source": [
    "### 15. help\n",
    "This is a useful function. If you need an explanation or details about any function, simply pass the function into the help function."
   ]
  },
  {
   "cell_type": "code",
   "execution_count": 22,
   "id": "fdd17884",
   "metadata": {},
   "outputs": [
    {
     "name": "stdout",
     "output_type": "stream",
     "text": [
      "Help on built-in function print in module builtins:\n",
      "\n",
      "print(*args, sep=' ', end='\\n', file=None, flush=False)\n",
      "    Prints the values to a stream, or to sys.stdout by default.\n",
      "    \n",
      "    sep\n",
      "      string inserted between values, default a space.\n",
      "    end\n",
      "      string appended after the last value, default a newline.\n",
      "    file\n",
      "      a file-like object (stream); defaults to the current sys.stdout.\n",
      "    flush\n",
      "      whether to forcibly flush the stream.\n",
      "\n"
     ]
    }
   ],
   "source": [
    "help('print')"
   ]
  },
  {
   "cell_type": "code",
   "execution_count": 23,
   "id": "ca4cba4a",
   "metadata": {},
   "outputs": [
    {
     "name": "stdout",
     "output_type": "stream",
     "text": [
      "Help on built-in function sum in module builtins:\n",
      "\n",
      "sum(iterable, /, start=0)\n",
      "    Return the sum of a 'start' value (default: 0) plus an iterable of numbers\n",
      "    \n",
      "    When the iterable is empty, return the start value.\n",
      "    This function is intended specifically for use with numeric values and may\n",
      "    reject non-numeric types.\n",
      "\n"
     ]
    }
   ],
   "source": [
    "help('sum')"
   ]
  },
  {
   "cell_type": "markdown",
   "id": "1f1fe0fd",
   "metadata": {},
   "source": [
    "## There are lots of built-in functions available in Python. To know more about Built-in Function, check out these websites:\n",
    "1. https://www.w3schools.com/python/python_ref_functions.asp\n",
    "2. https://www.geeksforgeeks.org/python-built-in-functions/"
   ]
  },
  {
   "cell_type": "code",
   "execution_count": null,
   "id": "a7df163a",
   "metadata": {},
   "outputs": [],
   "source": []
  }
 ],
 "metadata": {
  "kernelspec": {
   "display_name": "Python 3 (ipykernel)",
   "language": "python",
   "name": "python3"
  },
  "language_info": {
   "codemirror_mode": {
    "name": "ipython",
    "version": 3
   },
   "file_extension": ".py",
   "mimetype": "text/x-python",
   "name": "python",
   "nbconvert_exporter": "python",
   "pygments_lexer": "ipython3",
   "version": "3.11.5"
  }
 },
 "nbformat": 4,
 "nbformat_minor": 5
}
